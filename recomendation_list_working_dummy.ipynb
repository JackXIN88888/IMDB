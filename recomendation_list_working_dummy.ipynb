{
 "cells": [
  {
   "cell_type": "code",
   "execution_count": 37,
   "metadata": {},
   "outputs": [],
   "source": [
    "import sqlite3\n",
    "from sklearn.feature_extraction.text import CountVectorizer\n",
    "from sklearn.metrics.pairwise import cosine_similarity\n",
    "import pandas as pd\n",
    "#import streamlit as st\n",
    "import time\n",
    "import matplotlib.pyplot as plt\n"
   ]
  },
  {
   "cell_type": "code",
   "execution_count": 2,
   "metadata": {},
   "outputs": [
    {
     "name": "stdout",
     "output_type": "stream",
     "text": [
      "\u001b[33mWARNING: Retrying (Retry(total=4, connect=None, read=None, redirect=None, status=None)) after connection broken by 'NewConnectionError('<urllib3.connection.VerifiedHTTPSConnection object at 0x7f702983e5e0>: Failed to establish a new connection: [Errno -3] Temporary failure in name resolution')': /simple/sqlite3/\u001b[0m\n",
      "^C\n",
      "Note: you may need to restart the kernel to use updated packages.\n"
     ]
    }
   ],
   "source": [
    "pip install sqlite3"
   ]
  },
  {
   "cell_type": "code",
   "execution_count": 38,
   "metadata": {},
   "outputs": [],
   "source": [
    "\n",
    "\n",
    "connexion = sqlite3.connect(\"imdb.db\")\n",
    "cursor = connexion.cursor()\n",
    "\n"
   ]
  },
  {
   "cell_type": "code",
   "execution_count": 44,
   "metadata": {},
   "outputs": [],
   "source": [
    "\n",
    "\n",
    "# creating dataframe for movie details table\n",
    "cursor.execute(\"\"\"\n",
    "    SELECT tb.primaryTitle, tb.startYear, tb.genres, tc.directors, tr.averageRating, tr.numVotes\n",
    "    FROM title_basics tb, title_crew tc, title_ratings tr \n",
    "    ON tb.tconst = tc.tconst AND tb.tconst = tr.tconst\n",
    "    where tb.isAdult = 0\n",
    "\"\"\")\n",
    "data = cursor.fetchall()\n",
    "col = [description[0] for description in cursor.description]\n",
    "\n",
    "df = pd.DataFrame.from_records(data=data, columns=col)\n",
    "\n"
   ]
  },
  {
   "cell_type": "code",
   "execution_count": 45,
   "metadata": {},
   "outputs": [
    {
     "data": {
      "text/plain": [
       "(994051, 6)"
      ]
     },
     "execution_count": 45,
     "metadata": {},
     "output_type": "execute_result"
    }
   ],
   "source": [
    "df=df.drop_duplicates()\n",
    "\n",
    "df.shape\n",
    "\n"
   ]
  },
  {
   "cell_type": "code",
   "execution_count": 46,
   "metadata": {},
   "outputs": [
    {
     "data": {
      "text/html": [
       "<div>\n",
       "<style scoped>\n",
       "    .dataframe tbody tr th:only-of-type {\n",
       "        vertical-align: middle;\n",
       "    }\n",
       "\n",
       "    .dataframe tbody tr th {\n",
       "        vertical-align: top;\n",
       "    }\n",
       "\n",
       "    .dataframe thead th {\n",
       "        text-align: right;\n",
       "    }\n",
       "</style>\n",
       "<table border=\"1\" class=\"dataframe\">\n",
       "  <thead>\n",
       "    <tr style=\"text-align: right;\">\n",
       "      <th></th>\n",
       "      <th>primaryTitle</th>\n",
       "      <th>startYear</th>\n",
       "      <th>genres</th>\n",
       "      <th>directors</th>\n",
       "      <th>averageRating</th>\n",
       "      <th>numVotes</th>\n",
       "    </tr>\n",
       "  </thead>\n",
       "  <tbody>\n",
       "    <tr>\n",
       "      <th>0</th>\n",
       "      <td>Carmencita</td>\n",
       "      <td>1894</td>\n",
       "      <td>Documentary,Short</td>\n",
       "      <td>nm0005690</td>\n",
       "      <td>5.7</td>\n",
       "      <td>1924</td>\n",
       "    </tr>\n",
       "    <tr>\n",
       "      <th>2</th>\n",
       "      <td>Le clown et ses chiens</td>\n",
       "      <td>1892</td>\n",
       "      <td>Animation,Short</td>\n",
       "      <td>nm0721526</td>\n",
       "      <td>5.8</td>\n",
       "      <td>259</td>\n",
       "    </tr>\n",
       "    <tr>\n",
       "      <th>4</th>\n",
       "      <td>Pauvre Pierrot</td>\n",
       "      <td>1892</td>\n",
       "      <td>Animation,Comedy,Romance</td>\n",
       "      <td>nm0721526</td>\n",
       "      <td>6.5</td>\n",
       "      <td>1737</td>\n",
       "    </tr>\n",
       "    <tr>\n",
       "      <th>6</th>\n",
       "      <td>Un bon bock</td>\n",
       "      <td>1892</td>\n",
       "      <td>Animation,Short</td>\n",
       "      <td>nm0721526</td>\n",
       "      <td>5.6</td>\n",
       "      <td>174</td>\n",
       "    </tr>\n",
       "    <tr>\n",
       "      <th>8</th>\n",
       "      <td>Blacksmith Scene</td>\n",
       "      <td>1893</td>\n",
       "      <td>Comedy,Short</td>\n",
       "      <td>nm0005690</td>\n",
       "      <td>6.2</td>\n",
       "      <td>2550</td>\n",
       "    </tr>\n",
       "  </tbody>\n",
       "</table>\n",
       "</div>"
      ],
      "text/plain": [
       "             primaryTitle startYear                    genres  directors  \\\n",
       "0              Carmencita      1894         Documentary,Short  nm0005690   \n",
       "2  Le clown et ses chiens      1892           Animation,Short  nm0721526   \n",
       "4          Pauvre Pierrot      1892  Animation,Comedy,Romance  nm0721526   \n",
       "6             Un bon bock      1892           Animation,Short  nm0721526   \n",
       "8        Blacksmith Scene      1893              Comedy,Short  nm0005690   \n",
       "\n",
       "  averageRating numVotes  \n",
       "0           5.7     1924  \n",
       "2           5.8      259  \n",
       "4           6.5     1737  \n",
       "6           5.6      174  \n",
       "8           6.2     2550  "
      ]
     },
     "execution_count": 46,
     "metadata": {},
     "output_type": "execute_result"
    }
   ],
   "source": [
    "df.head()"
   ]
  },
  {
   "cell_type": "code",
   "execution_count": 47,
   "metadata": {},
   "outputs": [],
   "source": [
    "\n",
    "\n",
    "df['averageRating'] = df['averageRating'].astype(float)\n",
    "df['numVotes'] = df['numVotes'].astype(int)\n",
    "\n"
   ]
  },
  {
   "cell_type": "code",
   "execution_count": 48,
   "metadata": {},
   "outputs": [
    {
     "data": {
      "text/html": [
       "<div>\n",
       "<style scoped>\n",
       "    .dataframe tbody tr th:only-of-type {\n",
       "        vertical-align: middle;\n",
       "    }\n",
       "\n",
       "    .dataframe tbody tr th {\n",
       "        vertical-align: top;\n",
       "    }\n",
       "\n",
       "    .dataframe thead th {\n",
       "        text-align: right;\n",
       "    }\n",
       "</style>\n",
       "<table border=\"1\" class=\"dataframe\">\n",
       "  <thead>\n",
       "    <tr style=\"text-align: right;\">\n",
       "      <th></th>\n",
       "      <th>primaryTitle</th>\n",
       "      <th>startYear</th>\n",
       "      <th>genres</th>\n",
       "      <th>directors</th>\n",
       "      <th>averageRating</th>\n",
       "      <th>numVotes</th>\n",
       "    </tr>\n",
       "  </thead>\n",
       "  <tbody>\n",
       "    <tr>\n",
       "      <th>578</th>\n",
       "      <td>A Trip to the Moon</td>\n",
       "      <td>1902</td>\n",
       "      <td>Action,Adventure,Comedy</td>\n",
       "      <td>nm0617588</td>\n",
       "      <td>8.2</td>\n",
       "      <td>50411</td>\n",
       "    </tr>\n",
       "    <tr>\n",
       "      <th>5344</th>\n",
       "      <td>The Cabinet of Dr. Caligari</td>\n",
       "      <td>1920</td>\n",
       "      <td>Horror,Mystery,Thriller</td>\n",
       "      <td>nm0927468</td>\n",
       "      <td>8.0</td>\n",
       "      <td>64645</td>\n",
       "    </tr>\n",
       "    <tr>\n",
       "      <th>5940</th>\n",
       "      <td>One Week</td>\n",
       "      <td>1920</td>\n",
       "      <td>Comedy,Short</td>\n",
       "      <td>nm0166836,nm0000036</td>\n",
       "      <td>8.1</td>\n",
       "      <td>8274</td>\n",
       "    </tr>\n",
       "    <tr>\n",
       "      <th>6358</th>\n",
       "      <td>The Kid</td>\n",
       "      <td>1921</td>\n",
       "      <td>Comedy,Drama,Family</td>\n",
       "      <td>nm0000122</td>\n",
       "      <td>8.3</td>\n",
       "      <td>126941</td>\n",
       "    </tr>\n",
       "    <tr>\n",
       "      <th>6368</th>\n",
       "      <td>The Phantom Carriage</td>\n",
       "      <td>1921</td>\n",
       "      <td>Drama,Fantasy,Horror</td>\n",
       "      <td>nm0803705</td>\n",
       "      <td>8.0</td>\n",
       "      <td>12789</td>\n",
       "    </tr>\n",
       "    <tr>\n",
       "      <th>...</th>\n",
       "      <td>...</td>\n",
       "      <td>...</td>\n",
       "      <td>...</td>\n",
       "      <td>...</td>\n",
       "      <td>...</td>\n",
       "      <td>...</td>\n",
       "    </tr>\n",
       "    <tr>\n",
       "      <th>1987638</th>\n",
       "      <td>Vaulter</td>\n",
       "      <td>2019</td>\n",
       "      <td>Drama</td>\n",
       "      <td>nm0661238</td>\n",
       "      <td>8.5</td>\n",
       "      <td>3581</td>\n",
       "    </tr>\n",
       "    <tr>\n",
       "      <th>1987640</th>\n",
       "      <td>Hunting</td>\n",
       "      <td>2019</td>\n",
       "      <td>Drama</td>\n",
       "      <td>nm0661238</td>\n",
       "      <td>9.0</td>\n",
       "      <td>4262</td>\n",
       "    </tr>\n",
       "    <tr>\n",
       "      <th>1987700</th>\n",
       "      <td>The Winter Line</td>\n",
       "      <td>2020</td>\n",
       "      <td>Drama,Mystery,Sci-Fi</td>\n",
       "      <td>nm0003557</td>\n",
       "      <td>8.2</td>\n",
       "      <td>9150</td>\n",
       "    </tr>\n",
       "    <tr>\n",
       "      <th>1987810</th>\n",
       "      <td>Kaithi</td>\n",
       "      <td>2019</td>\n",
       "      <td>Action,Adventure,Crime</td>\n",
       "      <td>nm7992231</td>\n",
       "      <td>8.5</td>\n",
       "      <td>32445</td>\n",
       "    </tr>\n",
       "    <tr>\n",
       "      <th>1988106</th>\n",
       "      <td>Hero</td>\n",
       "      <td>2019</td>\n",
       "      <td>Action,Adventure,Animation</td>\n",
       "      <td>nm2967345,nm2013928,nm1267452</td>\n",
       "      <td>9.9</td>\n",
       "      <td>96053</td>\n",
       "    </tr>\n",
       "  </tbody>\n",
       "</table>\n",
       "<p>14891 rows × 6 columns</p>\n",
       "</div>"
      ],
      "text/plain": [
       "                        primaryTitle startYear                      genres  \\\n",
       "578               A Trip to the Moon      1902     Action,Adventure,Comedy   \n",
       "5344     The Cabinet of Dr. Caligari      1920     Horror,Mystery,Thriller   \n",
       "5940                        One Week      1920                Comedy,Short   \n",
       "6358                         The Kid      1921         Comedy,Drama,Family   \n",
       "6368            The Phantom Carriage      1921        Drama,Fantasy,Horror   \n",
       "...                              ...       ...                         ...   \n",
       "1987638                      Vaulter      2019                       Drama   \n",
       "1987640                      Hunting      2019                       Drama   \n",
       "1987700              The Winter Line      2020        Drama,Mystery,Sci-Fi   \n",
       "1987810                       Kaithi      2019      Action,Adventure,Crime   \n",
       "1988106                         Hero      2019  Action,Adventure,Animation   \n",
       "\n",
       "                             directors  averageRating  numVotes  \n",
       "578                          nm0617588            8.2     50411  \n",
       "5344                         nm0927468            8.0     64645  \n",
       "5940               nm0166836,nm0000036            8.1      8274  \n",
       "6358                         nm0000122            8.3    126941  \n",
       "6368                         nm0803705            8.0     12789  \n",
       "...                                ...            ...       ...  \n",
       "1987638                      nm0661238            8.5      3581  \n",
       "1987640                      nm0661238            9.0      4262  \n",
       "1987700                      nm0003557            8.2      9150  \n",
       "1987810                      nm7992231            8.5     32445  \n",
       "1988106  nm2967345,nm2013928,nm1267452            9.9     96053  \n",
       "\n",
       "[14891 rows x 6 columns]"
      ]
     },
     "execution_count": 48,
     "metadata": {},
     "output_type": "execute_result"
    }
   ],
   "source": [
    "\n",
    "\n",
    "df_above5 = df[df['averageRating'] >= 8.0]\n",
    "df_above5\n",
    "\n",
    "\n",
    "\n",
    "df_clean = df_above5[df_above5['numVotes'] >= 1000]\n",
    "df_clean\n",
    "\n"
   ]
  },
  {
   "cell_type": "code",
   "execution_count": 49,
   "metadata": {},
   "outputs": [
    {
     "name": "stderr",
     "output_type": "stream",
     "text": [
      "/tmp/ipykernel_11493/4016758238.py:1: SettingWithCopyWarning: \n",
      "A value is trying to be set on a copy of a slice from a DataFrame.\n",
      "Try using .loc[row_indexer,col_indexer] = value instead\n",
      "\n",
      "See the caveats in the documentation: https://pandas.pydata.org/pandas-docs/stable/user_guide/indexing.html#returning-a-view-versus-a-copy\n",
      "  df_clean['genres'] = df_clean['genres'].astype(\"string\")\n",
      "/tmp/ipykernel_11493/4016758238.py:2: SettingWithCopyWarning: \n",
      "A value is trying to be set on a copy of a slice from a DataFrame.\n",
      "Try using .loc[row_indexer,col_indexer] = value instead\n",
      "\n",
      "See the caveats in the documentation: https://pandas.pydata.org/pandas-docs/stable/user_guide/indexing.html#returning-a-view-versus-a-copy\n",
      "  df_clean['directors'] = df_clean['directors'].astype(\"string\")\n"
     ]
    }
   ],
   "source": [
    "df_clean['genres'] = df_clean['genres'].astype(\"string\")\n",
    "df_clean['directors'] = df_clean['directors'].astype(\"string\")"
   ]
  },
  {
   "cell_type": "code",
   "execution_count": 50,
   "metadata": {},
   "outputs": [
    {
     "data": {
      "text/plain": [
       "primaryTitle      object\n",
       "startYear         object\n",
       "genres            string\n",
       "directors         string\n",
       "averageRating    float64\n",
       "numVotes           int64\n",
       "dtype: object"
      ]
     },
     "execution_count": 50,
     "metadata": {},
     "output_type": "execute_result"
    }
   ],
   "source": [
    "\n",
    "\n",
    "df_clean.dtypes\n",
    "\n"
   ]
  },
  {
   "cell_type": "code",
   "execution_count": 51,
   "metadata": {},
   "outputs": [
    {
     "data": {
      "text/html": [
       "<div>\n",
       "<style scoped>\n",
       "    .dataframe tbody tr th:only-of-type {\n",
       "        vertical-align: middle;\n",
       "    }\n",
       "\n",
       "    .dataframe tbody tr th {\n",
       "        vertical-align: top;\n",
       "    }\n",
       "\n",
       "    .dataframe thead th {\n",
       "        text-align: right;\n",
       "    }\n",
       "</style>\n",
       "<table border=\"1\" class=\"dataframe\">\n",
       "  <thead>\n",
       "    <tr style=\"text-align: right;\">\n",
       "      <th></th>\n",
       "      <th>primaryTitle</th>\n",
       "      <th>startYear</th>\n",
       "      <th>genres</th>\n",
       "      <th>directors</th>\n",
       "      <th>averageRating</th>\n",
       "      <th>numVotes</th>\n",
       "    </tr>\n",
       "  </thead>\n",
       "  <tbody>\n",
       "    <tr>\n",
       "      <th>578</th>\n",
       "      <td>A Trip to the Moon</td>\n",
       "      <td>1902</td>\n",
       "      <td>Action,Adventure,Comedy</td>\n",
       "      <td>nm0617588</td>\n",
       "      <td>8.2</td>\n",
       "      <td>50411</td>\n",
       "    </tr>\n",
       "    <tr>\n",
       "      <th>5344</th>\n",
       "      <td>The Cabinet of Dr. Caligari</td>\n",
       "      <td>1920</td>\n",
       "      <td>Horror,Mystery,Thriller</td>\n",
       "      <td>nm0927468</td>\n",
       "      <td>8.0</td>\n",
       "      <td>64645</td>\n",
       "    </tr>\n",
       "    <tr>\n",
       "      <th>5940</th>\n",
       "      <td>One Week</td>\n",
       "      <td>1920</td>\n",
       "      <td>Comedy,Short</td>\n",
       "      <td>nm0166836,nm0000036</td>\n",
       "      <td>8.1</td>\n",
       "      <td>8274</td>\n",
       "    </tr>\n",
       "    <tr>\n",
       "      <th>6358</th>\n",
       "      <td>The Kid</td>\n",
       "      <td>1921</td>\n",
       "      <td>Comedy,Drama,Family</td>\n",
       "      <td>nm0000122</td>\n",
       "      <td>8.3</td>\n",
       "      <td>126941</td>\n",
       "    </tr>\n",
       "    <tr>\n",
       "      <th>6368</th>\n",
       "      <td>The Phantom Carriage</td>\n",
       "      <td>1921</td>\n",
       "      <td>Drama,Fantasy,Horror</td>\n",
       "      <td>nm0803705</td>\n",
       "      <td>8.0</td>\n",
       "      <td>12789</td>\n",
       "    </tr>\n",
       "  </tbody>\n",
       "</table>\n",
       "</div>"
      ],
      "text/plain": [
       "                     primaryTitle startYear                   genres  \\\n",
       "578            A Trip to the Moon      1902  Action,Adventure,Comedy   \n",
       "5344  The Cabinet of Dr. Caligari      1920  Horror,Mystery,Thriller   \n",
       "5940                     One Week      1920             Comedy,Short   \n",
       "6358                      The Kid      1921      Comedy,Drama,Family   \n",
       "6368         The Phantom Carriage      1921     Drama,Fantasy,Horror   \n",
       "\n",
       "                directors  averageRating  numVotes  \n",
       "578             nm0617588            8.2     50411  \n",
       "5344            nm0927468            8.0     64645  \n",
       "5940  nm0166836,nm0000036            8.1      8274  \n",
       "6358            nm0000122            8.3    126941  \n",
       "6368            nm0803705            8.0     12789  "
      ]
     },
     "execution_count": 51,
     "metadata": {},
     "output_type": "execute_result"
    }
   ],
   "source": [
    "df_clean.head()"
   ]
  },
  {
   "cell_type": "code",
   "execution_count": 52,
   "metadata": {},
   "outputs": [],
   "source": [
    "\n",
    "\n",
    "# Function to convert all strings to lower case and strip names of spaces\n",
    "def clean_data(x):\n",
    "    if isinstance(x, list):\n",
    "        return [str.lower(i.replace(\" \", \"\")) for i in x]\n",
    "    else:\n",
    "        #Check if director exists. If not, return empty string\n",
    "        if isinstance(x, str):\n",
    "            return str.lower(x.replace(\" \", \"\"))\n",
    "        else:\n",
    "            return ''\n",
    "\n"
   ]
  },
  {
   "cell_type": "code",
   "execution_count": 53,
   "metadata": {},
   "outputs": [
    {
     "name": "stderr",
     "output_type": "stream",
     "text": [
      "/tmp/ipykernel_11493/2218832250.py:5: SettingWithCopyWarning: \n",
      "A value is trying to be set on a copy of a slice from a DataFrame.\n",
      "Try using .loc[row_indexer,col_indexer] = value instead\n",
      "\n",
      "See the caveats in the documentation: https://pandas.pydata.org/pandas-docs/stable/user_guide/indexing.html#returning-a-view-versus-a-copy\n",
      "  df_clean[feature] = df_clean[feature].apply(clean_data)\n"
     ]
    }
   ],
   "source": [
    "\n",
    "\n",
    "# Apply clean_data function to your features.\n",
    "features = ['directors', 'genres']\n",
    "\n",
    "for feature in features:\n",
    "    df_clean[feature] = df_clean[feature].apply(clean_data)\n",
    "\n"
   ]
  },
  {
   "cell_type": "code",
   "execution_count": 54,
   "metadata": {},
   "outputs": [],
   "source": [
    "\n",
    "\n",
    "def create_soup(x):\n",
    "    return ' '.join(x['directors']) + ' ,' + ' '.join(x['genres'])\n",
    "\n"
   ]
  },
  {
   "cell_type": "code",
   "execution_count": 55,
   "metadata": {},
   "outputs": [
    {
     "name": "stderr",
     "output_type": "stream",
     "text": [
      "/tmp/ipykernel_11493/35972400.py:2: SettingWithCopyWarning: \n",
      "A value is trying to be set on a copy of a slice from a DataFrame.\n",
      "Try using .loc[row_indexer,col_indexer] = value instead\n",
      "\n",
      "See the caveats in the documentation: https://pandas.pydata.org/pandas-docs/stable/user_guide/indexing.html#returning-a-view-versus-a-copy\n",
      "  df_clean['soup'] = df_clean.apply(create_soup, axis=1)\n"
     ]
    }
   ],
   "source": [
    "\n",
    "\n",
    "# Create a new soup feature\n",
    "df_clean['soup'] = df_clean.apply(create_soup, axis=1)\n",
    "\n"
   ]
  },
  {
   "cell_type": "code",
   "execution_count": 56,
   "metadata": {},
   "outputs": [
    {
     "ename": "KeyError",
     "evalue": "0",
     "output_type": "error",
     "traceback": [
      "\u001b[0;31m---------------------------------------------------------------------------\u001b[0m",
      "\u001b[0;31mKeyError\u001b[0m                                  Traceback (most recent call last)",
      "File \u001b[0;32m~/.local/lib/python3.8/site-packages/pandas/core/indexes/base.py:3803\u001b[0m, in \u001b[0;36mIndex.get_loc\u001b[0;34m(self, key, method, tolerance)\u001b[0m\n\u001b[1;32m   3802\u001b[0m \u001b[39mtry\u001b[39;00m:\n\u001b[0;32m-> 3803\u001b[0m     \u001b[39mreturn\u001b[39;00m \u001b[39mself\u001b[39;49m\u001b[39m.\u001b[39;49m_engine\u001b[39m.\u001b[39;49mget_loc(casted_key)\n\u001b[1;32m   3804\u001b[0m \u001b[39mexcept\u001b[39;00m \u001b[39mKeyError\u001b[39;00m \u001b[39mas\u001b[39;00m err:\n",
      "File \u001b[0;32m~/.local/lib/python3.8/site-packages/pandas/_libs/index.pyx:138\u001b[0m, in \u001b[0;36mpandas._libs.index.IndexEngine.get_loc\u001b[0;34m()\u001b[0m\n",
      "File \u001b[0;32m~/.local/lib/python3.8/site-packages/pandas/_libs/index.pyx:165\u001b[0m, in \u001b[0;36mpandas._libs.index.IndexEngine.get_loc\u001b[0;34m()\u001b[0m\n",
      "File \u001b[0;32mpandas/_libs/hashtable_class_helper.pxi:2263\u001b[0m, in \u001b[0;36mpandas._libs.hashtable.Int64HashTable.get_item\u001b[0;34m()\u001b[0m\n",
      "File \u001b[0;32mpandas/_libs/hashtable_class_helper.pxi:2273\u001b[0m, in \u001b[0;36mpandas._libs.hashtable.Int64HashTable.get_item\u001b[0;34m()\u001b[0m\n",
      "\u001b[0;31mKeyError\u001b[0m: 0",
      "\nThe above exception was the direct cause of the following exception:\n",
      "\u001b[0;31mKeyError\u001b[0m                                  Traceback (most recent call last)",
      "Cell \u001b[0;32mIn [56], line 2\u001b[0m\n\u001b[1;32m      1\u001b[0m df_clean[\u001b[39m'\u001b[39m\u001b[39msoup\u001b[39m\u001b[39m'\u001b[39m]\u001b[39m.\u001b[39mhead()\n\u001b[0;32m----> 2\u001b[0m \u001b[39mprint\u001b[39m(df_clean[\u001b[39m'\u001b[39;49m\u001b[39msoup\u001b[39;49m\u001b[39m'\u001b[39;49m][\u001b[39m0\u001b[39;49m])\n",
      "File \u001b[0;32m~/.local/lib/python3.8/site-packages/pandas/core/series.py:981\u001b[0m, in \u001b[0;36mSeries.__getitem__\u001b[0;34m(self, key)\u001b[0m\n\u001b[1;32m    978\u001b[0m     \u001b[39mreturn\u001b[39;00m \u001b[39mself\u001b[39m\u001b[39m.\u001b[39m_values[key]\n\u001b[1;32m    980\u001b[0m \u001b[39melif\u001b[39;00m key_is_scalar:\n\u001b[0;32m--> 981\u001b[0m     \u001b[39mreturn\u001b[39;00m \u001b[39mself\u001b[39;49m\u001b[39m.\u001b[39;49m_get_value(key)\n\u001b[1;32m    983\u001b[0m \u001b[39mif\u001b[39;00m is_hashable(key):\n\u001b[1;32m    984\u001b[0m     \u001b[39m# Otherwise index.get_value will raise InvalidIndexError\u001b[39;00m\n\u001b[1;32m    985\u001b[0m     \u001b[39mtry\u001b[39;00m:\n\u001b[1;32m    986\u001b[0m         \u001b[39m# For labels that don't resolve as scalars like tuples and frozensets\u001b[39;00m\n",
      "File \u001b[0;32m~/.local/lib/python3.8/site-packages/pandas/core/series.py:1089\u001b[0m, in \u001b[0;36mSeries._get_value\u001b[0;34m(self, label, takeable)\u001b[0m\n\u001b[1;32m   1086\u001b[0m     \u001b[39mreturn\u001b[39;00m \u001b[39mself\u001b[39m\u001b[39m.\u001b[39m_values[label]\n\u001b[1;32m   1088\u001b[0m \u001b[39m# Similar to Index.get_value, but we do not fall back to positional\u001b[39;00m\n\u001b[0;32m-> 1089\u001b[0m loc \u001b[39m=\u001b[39m \u001b[39mself\u001b[39;49m\u001b[39m.\u001b[39;49mindex\u001b[39m.\u001b[39;49mget_loc(label)\n\u001b[1;32m   1090\u001b[0m \u001b[39mreturn\u001b[39;00m \u001b[39mself\u001b[39m\u001b[39m.\u001b[39mindex\u001b[39m.\u001b[39m_get_values_for_loc(\u001b[39mself\u001b[39m, loc, label)\n",
      "File \u001b[0;32m~/.local/lib/python3.8/site-packages/pandas/core/indexes/base.py:3805\u001b[0m, in \u001b[0;36mIndex.get_loc\u001b[0;34m(self, key, method, tolerance)\u001b[0m\n\u001b[1;32m   3803\u001b[0m     \u001b[39mreturn\u001b[39;00m \u001b[39mself\u001b[39m\u001b[39m.\u001b[39m_engine\u001b[39m.\u001b[39mget_loc(casted_key)\n\u001b[1;32m   3804\u001b[0m \u001b[39mexcept\u001b[39;00m \u001b[39mKeyError\u001b[39;00m \u001b[39mas\u001b[39;00m err:\n\u001b[0;32m-> 3805\u001b[0m     \u001b[39mraise\u001b[39;00m \u001b[39mKeyError\u001b[39;00m(key) \u001b[39mfrom\u001b[39;00m \u001b[39merr\u001b[39;00m\n\u001b[1;32m   3806\u001b[0m \u001b[39mexcept\u001b[39;00m \u001b[39mTypeError\u001b[39;00m:\n\u001b[1;32m   3807\u001b[0m     \u001b[39m# If we have a listlike key, _check_indexing_error will raise\u001b[39;00m\n\u001b[1;32m   3808\u001b[0m     \u001b[39m#  InvalidIndexError. Otherwise we fall through and re-raise\u001b[39;00m\n\u001b[1;32m   3809\u001b[0m     \u001b[39m#  the TypeError.\u001b[39;00m\n\u001b[1;32m   3810\u001b[0m     \u001b[39mself\u001b[39m\u001b[39m.\u001b[39m_check_indexing_error(key)\n",
      "\u001b[0;31mKeyError\u001b[0m: 0"
     ]
    }
   ],
   "source": [
    "\n",
    "\n",
    "df_clean['soup'].head()\n",
    "print(df_clean['soup'][0])\n",
    "\n"
   ]
  },
  {
   "cell_type": "code",
   "execution_count": 57,
   "metadata": {},
   "outputs": [
    {
     "name": "stderr",
     "output_type": "stream",
     "text": [
      "/tmp/ipykernel_11493/55744466.py:4: SettingWithCopyWarning: \n",
      "A value is trying to be set on a copy of a slice from a DataFrame.\n",
      "Try using .loc[row_indexer,col_indexer] = value instead\n",
      "\n",
      "See the caveats in the documentation: https://pandas.pydata.org/pandas-docs/stable/user_guide/indexing.html#returning-a-view-versus-a-copy\n",
      "  df_clean[feature] = df_clean[feature].apply(clean_data)\n"
     ]
    }
   ],
   "source": [
    "features = ['soup']\n",
    "\n",
    "for feature in features:\n",
    "    df_clean[feature] = df_clean[feature].apply(clean_data)"
   ]
  },
  {
   "cell_type": "code",
   "execution_count": 58,
   "metadata": {},
   "outputs": [
    {
     "name": "stdout",
     "output_type": "stream",
     "text": [
      "578                        nm0617588,action,adventure,comedy\n",
      "5344                       nm0927468,horror,mystery,thriller\n",
      "5940                        nm0166836,nm0000036,comedy,short\n",
      "6358                           nm0000122,comedy,drama,family\n",
      "6368                          nm0803705,drama,fantasy,horror\n",
      "                                 ...                        \n",
      "1987638                                      nm0661238,drama\n",
      "1987640                                      nm0661238,drama\n",
      "1987700                       nm0003557,drama,mystery,sci-fi\n",
      "1987810                     nm7992231,action,adventure,crime\n",
      "1988106    nm2967345,nm2013928,nm1267452,action,adventure...\n",
      "Name: soup, Length: 14891, dtype: object\n"
     ]
    }
   ],
   "source": [
    "print(df_clean['soup'])"
   ]
  },
  {
   "cell_type": "code",
   "execution_count": 59,
   "metadata": {},
   "outputs": [
    {
     "name": "stderr",
     "output_type": "stream",
     "text": [
      "/tmp/ipykernel_11493/2337589423.py:2: SettingWithCopyWarning: \n",
      "A value is trying to be set on a copy of a slice from a DataFrame.\n",
      "Try using .loc[row_indexer,col_indexer] = value instead\n",
      "\n",
      "See the caveats in the documentation: https://pandas.pydata.org/pandas-docs/stable/user_guide/indexing.html#returning-a-view-versus-a-copy\n",
      "  df_clean['soup'] = df_clean['soup'].replace(',', ' ', regex=True)\n"
     ]
    }
   ],
   "source": [
    "# Function to convert all strings to lower case and strip names of spaces\n",
    "df_clean['soup'] = df_clean['soup'].replace(',', ' ', regex=True)"
   ]
  },
  {
   "cell_type": "code",
   "execution_count": 60,
   "metadata": {},
   "outputs": [
    {
     "data": {
      "text/html": [
       "<div>\n",
       "<style scoped>\n",
       "    .dataframe tbody tr th:only-of-type {\n",
       "        vertical-align: middle;\n",
       "    }\n",
       "\n",
       "    .dataframe tbody tr th {\n",
       "        vertical-align: top;\n",
       "    }\n",
       "\n",
       "    .dataframe thead th {\n",
       "        text-align: right;\n",
       "    }\n",
       "</style>\n",
       "<table border=\"1\" class=\"dataframe\">\n",
       "  <thead>\n",
       "    <tr style=\"text-align: right;\">\n",
       "      <th></th>\n",
       "      <th>primaryTitle</th>\n",
       "      <th>startYear</th>\n",
       "      <th>genres</th>\n",
       "      <th>directors</th>\n",
       "      <th>averageRating</th>\n",
       "      <th>numVotes</th>\n",
       "      <th>soup</th>\n",
       "    </tr>\n",
       "  </thead>\n",
       "  <tbody>\n",
       "    <tr>\n",
       "      <th>578</th>\n",
       "      <td>A Trip to the Moon</td>\n",
       "      <td>1902</td>\n",
       "      <td>action,adventure,comedy</td>\n",
       "      <td>nm0617588</td>\n",
       "      <td>8.2</td>\n",
       "      <td>50411</td>\n",
       "      <td>nm0617588 action adventure comedy</td>\n",
       "    </tr>\n",
       "    <tr>\n",
       "      <th>5344</th>\n",
       "      <td>The Cabinet of Dr. Caligari</td>\n",
       "      <td>1920</td>\n",
       "      <td>horror,mystery,thriller</td>\n",
       "      <td>nm0927468</td>\n",
       "      <td>8.0</td>\n",
       "      <td>64645</td>\n",
       "      <td>nm0927468 horror mystery thriller</td>\n",
       "    </tr>\n",
       "    <tr>\n",
       "      <th>5940</th>\n",
       "      <td>One Week</td>\n",
       "      <td>1920</td>\n",
       "      <td>comedy,short</td>\n",
       "      <td>nm0166836,nm0000036</td>\n",
       "      <td>8.1</td>\n",
       "      <td>8274</td>\n",
       "      <td>nm0166836 nm0000036 comedy short</td>\n",
       "    </tr>\n",
       "    <tr>\n",
       "      <th>6358</th>\n",
       "      <td>The Kid</td>\n",
       "      <td>1921</td>\n",
       "      <td>comedy,drama,family</td>\n",
       "      <td>nm0000122</td>\n",
       "      <td>8.3</td>\n",
       "      <td>126941</td>\n",
       "      <td>nm0000122 comedy drama family</td>\n",
       "    </tr>\n",
       "    <tr>\n",
       "      <th>6368</th>\n",
       "      <td>The Phantom Carriage</td>\n",
       "      <td>1921</td>\n",
       "      <td>drama,fantasy,horror</td>\n",
       "      <td>nm0803705</td>\n",
       "      <td>8.0</td>\n",
       "      <td>12789</td>\n",
       "      <td>nm0803705 drama fantasy horror</td>\n",
       "    </tr>\n",
       "  </tbody>\n",
       "</table>\n",
       "</div>"
      ],
      "text/plain": [
       "                     primaryTitle startYear                   genres  \\\n",
       "578            A Trip to the Moon      1902  action,adventure,comedy   \n",
       "5344  The Cabinet of Dr. Caligari      1920  horror,mystery,thriller   \n",
       "5940                     One Week      1920             comedy,short   \n",
       "6358                      The Kid      1921      comedy,drama,family   \n",
       "6368         The Phantom Carriage      1921     drama,fantasy,horror   \n",
       "\n",
       "                directors  averageRating  numVotes  \\\n",
       "578             nm0617588            8.2     50411   \n",
       "5344            nm0927468            8.0     64645   \n",
       "5940  nm0166836,nm0000036            8.1      8274   \n",
       "6358            nm0000122            8.3    126941   \n",
       "6368            nm0803705            8.0     12789   \n",
       "\n",
       "                                   soup  \n",
       "578   nm0617588 action adventure comedy  \n",
       "5344  nm0927468 horror mystery thriller  \n",
       "5940   nm0166836 nm0000036 comedy short  \n",
       "6358      nm0000122 comedy drama family  \n",
       "6368     nm0803705 drama fantasy horror  "
      ]
     },
     "execution_count": 60,
     "metadata": {},
     "output_type": "execute_result"
    }
   ],
   "source": [
    "\n",
    "\n",
    "df_clean.head()\n",
    "\n"
   ]
  },
  {
   "cell_type": "code",
   "execution_count": 61,
   "metadata": {},
   "outputs": [
    {
     "name": "stderr",
     "output_type": "stream",
     "text": [
      "/tmp/ipykernel_11493/2863556602.py:1: SettingWithCopyWarning: \n",
      "A value is trying to be set on a copy of a slice from a DataFrame.\n",
      "Try using .loc[row_indexer,col_indexer] = value instead\n",
      "\n",
      "See the caveats in the documentation: https://pandas.pydata.org/pandas-docs/stable/user_guide/indexing.html#returning-a-view-versus-a-copy\n",
      "  df_clean['primaryTitle'] = df_clean['primaryTitle'].astype(\"string\")\n"
     ]
    }
   ],
   "source": [
    "\n",
    "\n",
    "df_clean['primaryTitle'] = df_clean['primaryTitle'].astype(\"string\")\n",
    "\n"
   ]
  },
  {
   "cell_type": "code",
   "execution_count": 62,
   "metadata": {},
   "outputs": [],
   "source": [
    "\n",
    "\n",
    "df_clean = df_clean.reset_index()\n",
    "\n"
   ]
  },
  {
   "cell_type": "code",
   "execution_count": 118,
   "metadata": {},
   "outputs": [
    {
     "data": {
      "text/html": [
       "<div>\n",
       "<style scoped>\n",
       "    .dataframe tbody tr th:only-of-type {\n",
       "        vertical-align: middle;\n",
       "    }\n",
       "\n",
       "    .dataframe tbody tr th {\n",
       "        vertical-align: top;\n",
       "    }\n",
       "\n",
       "    .dataframe thead th {\n",
       "        text-align: right;\n",
       "    }\n",
       "</style>\n",
       "<table border=\"1\" class=\"dataframe\">\n",
       "  <thead>\n",
       "    <tr style=\"text-align: right;\">\n",
       "      <th></th>\n",
       "      <th>index</th>\n",
       "      <th>primaryTitle</th>\n",
       "      <th>startYear</th>\n",
       "      <th>genres</th>\n",
       "      <th>directors</th>\n",
       "      <th>averageRating</th>\n",
       "      <th>numVotes</th>\n",
       "      <th>soup</th>\n",
       "    </tr>\n",
       "  </thead>\n",
       "  <tbody>\n",
       "    <tr>\n",
       "      <th>0</th>\n",
       "      <td>578</td>\n",
       "      <td>A Trip to the Moon</td>\n",
       "      <td>1902</td>\n",
       "      <td>action,adventure,comedy</td>\n",
       "      <td>nm0617588</td>\n",
       "      <td>8.2</td>\n",
       "      <td>50411</td>\n",
       "      <td>nm0617588 action adventure comedy</td>\n",
       "    </tr>\n",
       "    <tr>\n",
       "      <th>1</th>\n",
       "      <td>5344</td>\n",
       "      <td>The Cabinet of Dr. Caligari</td>\n",
       "      <td>1920</td>\n",
       "      <td>horror,mystery,thriller</td>\n",
       "      <td>nm0927468</td>\n",
       "      <td>8.0</td>\n",
       "      <td>64645</td>\n",
       "      <td>nm0927468 horror mystery thriller</td>\n",
       "    </tr>\n",
       "    <tr>\n",
       "      <th>2</th>\n",
       "      <td>5940</td>\n",
       "      <td>One Week</td>\n",
       "      <td>1920</td>\n",
       "      <td>comedy,short</td>\n",
       "      <td>nm0166836,nm0000036</td>\n",
       "      <td>8.1</td>\n",
       "      <td>8274</td>\n",
       "      <td>nm0166836 nm0000036 comedy short</td>\n",
       "    </tr>\n",
       "    <tr>\n",
       "      <th>3</th>\n",
       "      <td>6358</td>\n",
       "      <td>The Kid</td>\n",
       "      <td>1921</td>\n",
       "      <td>comedy,drama,family</td>\n",
       "      <td>nm0000122</td>\n",
       "      <td>8.3</td>\n",
       "      <td>126941</td>\n",
       "      <td>nm0000122 comedy drama family</td>\n",
       "    </tr>\n",
       "    <tr>\n",
       "      <th>4</th>\n",
       "      <td>6368</td>\n",
       "      <td>The Phantom Carriage</td>\n",
       "      <td>1921</td>\n",
       "      <td>drama,fantasy,horror</td>\n",
       "      <td>nm0803705</td>\n",
       "      <td>8.0</td>\n",
       "      <td>12789</td>\n",
       "      <td>nm0803705 drama fantasy horror</td>\n",
       "    </tr>\n",
       "    <tr>\n",
       "      <th>...</th>\n",
       "      <td>...</td>\n",
       "      <td>...</td>\n",
       "      <td>...</td>\n",
       "      <td>...</td>\n",
       "      <td>...</td>\n",
       "      <td>...</td>\n",
       "      <td>...</td>\n",
       "      <td>...</td>\n",
       "    </tr>\n",
       "    <tr>\n",
       "      <th>295</th>\n",
       "      <td>64670</td>\n",
       "      <td>The Emperor's Naked Army Marches On</td>\n",
       "      <td>1987</td>\n",
       "      <td>documentary,war</td>\n",
       "      <td>nm0361672</td>\n",
       "      <td>8.2</td>\n",
       "      <td>1912</td>\n",
       "      <td>nm0361672 documentary war</td>\n",
       "    </tr>\n",
       "    <tr>\n",
       "      <th>296</th>\n",
       "      <td>64824</td>\n",
       "      <td>Full Metal Jacket</td>\n",
       "      <td>1987</td>\n",
       "      <td>drama,war</td>\n",
       "      <td>nm0000040</td>\n",
       "      <td>8.3</td>\n",
       "      <td>741465</td>\n",
       "      <td>nm0000040 drama war</td>\n",
       "    </tr>\n",
       "    <tr>\n",
       "      <th>297</th>\n",
       "      <td>64942</td>\n",
       "      <td>Hachi-ko</td>\n",
       "      <td>1987</td>\n",
       "      <td>biography,drama,family</td>\n",
       "      <td>nm0477771</td>\n",
       "      <td>8.0</td>\n",
       "      <td>5350</td>\n",
       "      <td>nm0477771 biography drama family</td>\n",
       "    </tr>\n",
       "    <tr>\n",
       "      <th>298</th>\n",
       "      <td>65048</td>\n",
       "      <td>Wings of Desire</td>\n",
       "      <td>1987</td>\n",
       "      <td>drama,fantasy,romance</td>\n",
       "      <td>nm0000694</td>\n",
       "      <td>8.0</td>\n",
       "      <td>71681</td>\n",
       "      <td>nm0000694 drama fantasy romance</td>\n",
       "    </tr>\n",
       "    <tr>\n",
       "      <th>299</th>\n",
       "      <td>65264</td>\n",
       "      <td>Jimi Plays Monterey</td>\n",
       "      <td>1986</td>\n",
       "      <td>documentary,music</td>\n",
       "      <td>nm0373698,nm0672060</td>\n",
       "      <td>8.1</td>\n",
       "      <td>1312</td>\n",
       "      <td>nm0373698 nm0672060 documentary music</td>\n",
       "    </tr>\n",
       "  </tbody>\n",
       "</table>\n",
       "<p>300 rows × 8 columns</p>\n",
       "</div>"
      ],
      "text/plain": [
       "     index                         primaryTitle startYear  \\\n",
       "0      578                   A Trip to the Moon      1902   \n",
       "1     5344          The Cabinet of Dr. Caligari      1920   \n",
       "2     5940                             One Week      1920   \n",
       "3     6358                              The Kid      1921   \n",
       "4     6368                 The Phantom Carriage      1921   \n",
       "..     ...                                  ...       ...   \n",
       "295  64670  The Emperor's Naked Army Marches On      1987   \n",
       "296  64824                    Full Metal Jacket      1987   \n",
       "297  64942                             Hachi-ko      1987   \n",
       "298  65048                      Wings of Desire      1987   \n",
       "299  65264                  Jimi Plays Monterey      1986   \n",
       "\n",
       "                      genres            directors  averageRating  numVotes  \\\n",
       "0    action,adventure,comedy            nm0617588            8.2     50411   \n",
       "1    horror,mystery,thriller            nm0927468            8.0     64645   \n",
       "2               comedy,short  nm0166836,nm0000036            8.1      8274   \n",
       "3        comedy,drama,family            nm0000122            8.3    126941   \n",
       "4       drama,fantasy,horror            nm0803705            8.0     12789   \n",
       "..                       ...                  ...            ...       ...   \n",
       "295          documentary,war            nm0361672            8.2      1912   \n",
       "296                drama,war            nm0000040            8.3    741465   \n",
       "297   biography,drama,family            nm0477771            8.0      5350   \n",
       "298    drama,fantasy,romance            nm0000694            8.0     71681   \n",
       "299        documentary,music  nm0373698,nm0672060            8.1      1312   \n",
       "\n",
       "                                      soup  \n",
       "0        nm0617588 action adventure comedy  \n",
       "1        nm0927468 horror mystery thriller  \n",
       "2         nm0166836 nm0000036 comedy short  \n",
       "3            nm0000122 comedy drama family  \n",
       "4           nm0803705 drama fantasy horror  \n",
       "..                                     ...  \n",
       "295              nm0361672 documentary war  \n",
       "296                    nm0000040 drama war  \n",
       "297       nm0477771 biography drama family  \n",
       "298        nm0000694 drama fantasy romance  \n",
       "299  nm0373698 nm0672060 documentary music  \n",
       "\n",
       "[300 rows x 8 columns]"
      ]
     },
     "execution_count": 118,
     "metadata": {},
     "output_type": "execute_result"
    }
   ],
   "source": [
    "df_clean.head(300)"
   ]
  },
  {
   "cell_type": "code",
   "execution_count": 114,
   "metadata": {},
   "outputs": [
    {
     "data": {
      "text/html": [
       "<div>\n",
       "<style scoped>\n",
       "    .dataframe tbody tr th:only-of-type {\n",
       "        vertical-align: middle;\n",
       "    }\n",
       "\n",
       "    .dataframe tbody tr th {\n",
       "        vertical-align: top;\n",
       "    }\n",
       "\n",
       "    .dataframe thead th {\n",
       "        text-align: right;\n",
       "    }\n",
       "</style>\n",
       "<table border=\"1\" class=\"dataframe\">\n",
       "  <thead>\n",
       "    <tr style=\"text-align: right;\">\n",
       "      <th></th>\n",
       "      <th>index</th>\n",
       "      <th>primaryTitle</th>\n",
       "      <th>startYear</th>\n",
       "      <th>genres</th>\n",
       "      <th>directors</th>\n",
       "      <th>averageRating</th>\n",
       "      <th>numVotes</th>\n",
       "      <th>soup</th>\n",
       "    </tr>\n",
       "  </thead>\n",
       "  <tbody>\n",
       "  </tbody>\n",
       "</table>\n",
       "</div>"
      ],
      "text/plain": [
       "Empty DataFrame\n",
       "Columns: [index, primaryTitle, startYear, genres, directors, averageRating, numVotes, soup]\n",
       "Index: []"
      ]
     },
     "execution_count": 114,
     "metadata": {},
     "output_type": "execute_result"
    }
   ],
   "source": [
    "df_clean[df_clean['primaryTitle']=='Titanic']"
   ]
  },
  {
   "cell_type": "code",
   "execution_count": 64,
   "metadata": {},
   "outputs": [],
   "source": [
    "\n",
    "\n",
    "# Import CountVectorizer and create the count matrix\n",
    "count = CountVectorizer(stop_words='english')\n",
    "count_matrix = count.fit_transform(df_clean['soup'])\n",
    "\n"
   ]
  },
  {
   "cell_type": "code",
   "execution_count": 73,
   "metadata": {},
   "outputs": [
    {
     "name": "stdout",
     "output_type": "stream",
     "text": [
      "  (0, 0)\t1\n",
      "  (0, 1)\t1\n",
      "  (0, 4)\t1\n",
      "  (0, 3149)\t1\n",
      "  (1, 14)\t1\n",
      "  (1, 17)\t1\n",
      "  (1, 4483)\t1\n",
      "  (1, 10040)\t1\n",
      "  (2, 4)\t1\n",
      "  (2, 21)\t1\n",
      "  (2, 1118)\t1\n",
      "  (2, 10037)\t1\n",
      "  (3, 4)\t1\n",
      "  (3, 7)\t1\n",
      "  (3, 8)\t1\n",
      "  (3, 31)\t1\n",
      "  (4, 7)\t1\n",
      "  (4, 9)\t1\n",
      "  (4, 14)\t1\n",
      "  (4, 3925)\t1\n",
      "  (5, 0)\t1\n",
      "  (5, 4)\t1\n",
      "  (5, 3190)\t1\n",
      "  (5, 4157)\t1\n",
      "  (5, 10040)\t1\n",
      "  :\t:\n",
      "  (14884, 4)\t1\n",
      "  (14884, 8236)\t1\n",
      "  (14885, 0)\t1\n",
      "  (14885, 1)\t1\n",
      "  (14885, 2)\t1\n",
      "  (14885, 7310)\t1\n",
      "  (14886, 7)\t1\n",
      "  (14886, 3327)\t1\n",
      "  (14887, 7)\t1\n",
      "  (14887, 3327)\t1\n",
      "  (14888, 7)\t1\n",
      "  (14888, 10)\t1\n",
      "  (14888, 17)\t1\n",
      "  (14888, 308)\t1\n",
      "  (14888, 10036)\t1\n",
      "  (14889, 0)\t1\n",
      "  (14889, 1)\t1\n",
      "  (14889, 5)\t1\n",
      "  (14889, 9744)\t1\n",
      "  (14890, 0)\t1\n",
      "  (14890, 1)\t1\n",
      "  (14890, 2)\t1\n",
      "  (14890, 5537)\t1\n",
      "  (14890, 6968)\t1\n",
      "  (14890, 8103)\t1\n"
     ]
    }
   ],
   "source": [
    "\n",
    "\n",
    "count_matrix.shape\n",
    "print(count_matrix)\n",
    "\n"
   ]
  },
  {
   "cell_type": "code",
   "execution_count": 66,
   "metadata": {},
   "outputs": [],
   "source": [
    "# Compute the Cosine Similarity matrix based on the count_matrix\n",
    "cosine_sim2 = cosine_similarity(count_matrix, count_matrix)"
   ]
  },
  {
   "cell_type": "code",
   "execution_count": 76,
   "metadata": {},
   "outputs": [
    {
     "name": "stdout",
     "output_type": "stream",
     "text": [
      "(14891, 14891)\n"
     ]
    },
    {
     "ename": "AttributeError",
     "evalue": "'numpy.ndarray' object has no attribute 'dtypes'",
     "output_type": "error",
     "traceback": [
      "\u001b[0;31m---------------------------------------------------------------------------\u001b[0m",
      "\u001b[0;31mAttributeError\u001b[0m                            Traceback (most recent call last)",
      "Cell \u001b[0;32mIn [76], line 2\u001b[0m\n\u001b[1;32m      1\u001b[0m \u001b[39mprint\u001b[39m(cosine_sim2\u001b[39m.\u001b[39mshape)\n\u001b[0;32m----> 2\u001b[0m \u001b[39mprint\u001b[39m(cosine_sim2\u001b[39m.\u001b[39;49mdtypes)\n\u001b[1;32m      4\u001b[0m \u001b[39mprint\u001b[39m(cosine_sim2)\n",
      "\u001b[0;31mAttributeError\u001b[0m: 'numpy.ndarray' object has no attribute 'dtypes'"
     ]
    }
   ],
   "source": [
    "\n",
    "\n",
    "print(cosine_sim2.shape)\n",
    "print(cosine_sim2.dtypes)\n",
    "\n",
    "print(cosine_sim2)\n",
    "\n"
   ]
  },
  {
   "cell_type": "code",
   "execution_count": 109,
   "metadata": {},
   "outputs": [],
   "source": [
    "\n",
    "\n",
    "# Function that takes in movie title as input and outputs most similar movies\n",
    "def get_recommendations(title, cosine_sim=cosine_sim2):\n",
    "    # Get the index of the movie that matches the title\n",
    "    idx = df_clean.index[df_clean['primaryTitle'] == title]\n",
    "    print(f\"1. idx : {idx}\")\n",
    "    print(idx)\n",
    "\n",
    "    # Get the pairwsie similarity scores of all movies with that movie\n",
    "    sim_scores = cosine_sim2[idx]\n",
    "    print(f\"2. sim_scores : {sim_scores}\")\n",
    "    print(sim_scores.shape)\n",
    "    df_sim=pd.DataFrame(sim_scores.reshape(-1),columns=['cos'])\n",
    "\n",
    "    df_sim.reset_index()\n",
    "\n",
    "    df_sim.columns\n",
    "    # print(1000000000000000000)\n",
    "    # print(df_sim.head())\n",
    "\n",
    "    rslt_df = df_sim.sort_values(by='cos',ascending=False)\n",
    "\n",
    "    # print(rslt_df[0:11])\n",
    "    rec_list=rslt_df.reset_index()\n",
    "    list1=[]\n",
    "    list1=rec_list['index'][1:11].values\n",
    "\n",
    "    # Return the top 10 most similar movies\n",
    "    return df_clean['primaryTitle'].iloc[list1]\n"
   ]
  },
  {
   "cell_type": "code",
   "execution_count": 139,
   "metadata": {},
   "outputs": [],
   "source": [
    "# Function that takes in movie title as input and outputs most similar movies\n",
    "def get_recommendations_list(liked_movies_list, cosine_sim=cosine_sim2):\n",
    "    # Get the index of the movie that matches the title\n",
    "    \n",
    "    idx_list=[]\n",
    "    for m in liked_movies_list:\n",
    "        \n",
    "        idx = df_clean.index[df_clean['primaryTitle'] == m]\n",
    "        idx_list.append(idx)\n",
    "\n",
    "    df_sim_list=pd.DataFrame()\n",
    "    print(idx_list)\n",
    "    for m in idx_list:\n",
    "        sim_scores = cosine_sim2[m]\n",
    "        df_sim=pd.DataFrame(sim_scores.reshape(-1),columns=[m])\n",
    "        df_sim_list[m]=df_sim\n",
    "\n",
    "\n",
    "\n",
    "        \n",
    "    df_sim_list['average']=df_sim_list.mean(numeric_only=True, axis=1)\n",
    "\n",
    "    rslt_df = df_sim_list.sort_values(by='average',ascending=False)\n",
    "\n",
    "    # print(rslt_df[0:11])\n",
    "    rec_list=rslt_df.reset_index()\n",
    "    list1=[]\n",
    "    list1=rec_list['index'][0:11].values\n",
    "\n",
    "    # Return the top 10 most similar movies\n",
    "    return df_clean['primaryTitle'].iloc[list1]"
   ]
  },
  {
   "cell_type": "code",
   "execution_count": 140,
   "metadata": {},
   "outputs": [
    {
     "name": "stdout",
     "output_type": "stream",
     "text": [
      "[Int64Index([2], dtype='int64'), Int64Index([296], dtype='int64'), Int64Index([3], dtype='int64')]\n",
      "40                The Great Dictator\n",
      "3                            The Kid\n",
      "16                     The Cameraman\n",
      "868      Goodbye, Farewell, and Amen\n",
      "966           Devils on the Doorstep\n",
      "3740                Abyssinia, Henry\n",
      "296                Full Metal Jacket\n",
      "1131                   Laughing Eyes\n",
      "12073                     Reply 1988\n",
      "9469         My Grandfather's People\n",
      "9882                 #Kaadal Kahaani\n",
      "Name: primaryTitle, dtype: string\n"
     ]
    }
   ],
   "source": [
    "liked_movies_list=['One Week','Full Metal Jacket','The Kid']\n",
    "\n",
    "var = get_recommendations_list(liked_movies_list)\n",
    "print(var)"
   ]
  },
  {
   "cell_type": "code",
   "execution_count": 131,
   "metadata": {},
   "outputs": [
    {
     "name": "stdout",
     "output_type": "stream",
     "text": [
      "[Int64Index([2], dtype='int64'), Int64Index([296], dtype='int64'), Int64Index([3], dtype='int64')]\n",
      "[    3    16   868   966  3740   296  1131 12073  9469  9882]\n"
     ]
    }
   ],
   "source": [
    "liked_movies_list=['One Week','Full Metal Jacket','The Kid']\n",
    "idx_list=[]\n",
    "for m in liked_movies_list:\n",
    "    \n",
    "    idx = df_clean.index[df_clean['primaryTitle'] == m]\n",
    "    idx_list.append(idx)\n",
    "\n",
    "df_sim_list=pd.DataFrame()\n",
    "print(idx_list)\n",
    "for m in idx_list:\n",
    "    sim_scores = cosine_sim2[m]\n",
    "    df_sim=pd.DataFrame(sim_scores.reshape(-1),columns=[m])\n",
    "    df_sim_list[m]=df_sim\n",
    "\n",
    "\n",
    "\n",
    "    \n",
    "df_sim_list['average']=df_sim_list.mean(numeric_only=True, axis=1)\n",
    "\n",
    "rslt_df = df_sim_list.sort_values(by='average',ascending=False)\n",
    "\n",
    "# print(rslt_df[0:11])\n",
    "rec_list=rslt_df.reset_index()\n",
    "list1=[]\n",
    "list1=rec_list['index'][1:11].values\n",
    "\n",
    "print(list1)"
   ]
  },
  {
   "cell_type": "code",
   "execution_count": 108,
   "metadata": {},
   "outputs": [
    {
     "name": "stdout",
     "output_type": "stream",
     "text": [
      "1. idx : Int64Index([2], dtype='int64')\n",
      "Int64Index([2], dtype='int64')\n",
      "2. sim_scores : [[0.25 0.   1.   ... 0.   0.   0.  ]]\n",
      "(1, 14891)\n"
     ]
    },
    {
     "data": {
      "text/plain": [
       "14792                                     SodaPop\n",
       "12304    The Gay and Wondrous Life of Caleb Gallo\n",
       "41                          A Plumbing We Will Go\n",
       "12693                                  Human Cake\n",
       "9169                                 The Bus Stop\n",
       "1165                                   The Parlor\n",
       "14340                          Leading Lady Parts\n",
       "5809               A Parks and Recreation Special\n",
       "1037                      Casper & Mandrilaftalen\n",
       "4299                 24 Season 5: Logan's Retreat\n",
       "Name: primaryTitle, dtype: string"
      ]
     },
     "execution_count": 108,
     "metadata": {},
     "output_type": "execute_result"
    }
   ],
   "source": [
    "\n",
    "\n",
    "idx = df_clean.index[df_clean['primaryTitle'] == 'One Week']\n",
    "print(f\"1. idx : {idx}\")\n",
    "print(idx)\n",
    "\n",
    "# Get the pairwsie similarity scores of all movies with that movie\n",
    "sim_scores = cosine_sim2[idx]\n",
    "print(f\"2. sim_scores : {sim_scores}\")\n",
    "print(sim_scores.shape)\n",
    "df_sim=pd.DataFrame(sim_scores.reshape(-1),columns=['cos'])\n",
    "\n",
    "df_sim.reset_index()\n",
    "\n",
    "df_sim.columns\n",
    "# print(1000000000000000000)\n",
    "# print(df_sim.head())\n",
    "\n",
    "rslt_df = df_sim.sort_values(by='cos',ascending=False)\n",
    "\n",
    "# print(rslt_df[0:11])\n",
    "rec_list=rslt_df.reset_index()\n",
    "list1=[]\n",
    "list1=rec_list['index'][1:11].values\n",
    "df_clean['primaryTitle'].iloc[list1]"
   ]
  },
  {
   "cell_type": "code",
   "execution_count": 119,
   "metadata": {},
   "outputs": [
    {
     "name": "stdout",
     "output_type": "stream",
     "text": [
      "1. idx : Int64Index([296], dtype='int64')\n",
      "Int64Index([296], dtype='int64')\n",
      "2. sim_scores : [[0.         0.         0.         ... 0.25819889 0.         0.        ]]\n",
      "(1, 14891)\n",
      "8917             Richard II\n",
      "108         The Deer Hunter\n",
      "282                 Platoon\n",
      "159                The Boat\n",
      "4916      Dara of Jasenovac\n",
      "33       The Grand Illusion\n",
      "150             The Shining\n",
      "294       Goodbye, Children\n",
      "14778    Tuntematon sotilas\n",
      "648               Flashback\n",
      "Name: primaryTitle, dtype: string\n"
     ]
    }
   ],
   "source": [
    "\n",
    "\n",
    "var = get_recommendations('Full Metal Jacket')\n",
    "print(var)\n",
    "\n"
   ]
  }
 ],
 "metadata": {
  "kernelspec": {
   "display_name": "Python 3.8.10 64-bit",
   "language": "python",
   "name": "python3"
  },
  "language_info": {
   "codemirror_mode": {
    "name": "ipython",
    "version": 3
   },
   "file_extension": ".py",
   "mimetype": "text/x-python",
   "name": "python",
   "nbconvert_exporter": "python",
   "pygments_lexer": "ipython3",
   "version": "3.8.10"
  },
  "orig_nbformat": 4,
  "vscode": {
   "interpreter": {
    "hash": "31f2aee4e71d21fbe5cf8b01ff0e069b9275f58929596ceb00d14d90e3e16cd6"
   }
  }
 },
 "nbformat": 4,
 "nbformat_minor": 2
}
