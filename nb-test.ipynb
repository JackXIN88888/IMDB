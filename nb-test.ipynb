{
 "cells": [
  {
   "cell_type": "markdown",
   "metadata": {},
   "source": [
    "# Recommendation system"
   ]
  },
  {
   "cell_type": "markdown",
   "metadata": {},
   "source": [
    "## Imports and db connection"
   ]
  },
  {
   "cell_type": "code",
   "execution_count": 1,
   "metadata": {},
   "outputs": [],
   "source": [
    "import sqlite3\n",
    "from sklearn.feature_extraction.text import CountVectorizer\n",
    "from sklearn.metrics.pairwise import cosine_similarity\n",
    "import pandas as pd\n",
    "#import streamlit as st\n",
    "import time\n",
    "import matplotlib.pyplot as plt"
   ]
  },
  {
   "cell_type": "code",
   "execution_count": 2,
   "metadata": {},
   "outputs": [],
   "source": [
    "connexion = sqlite3.connect(\"../database/imdb/imdb.db\")\n",
    "cursor = connexion.cursor()"
   ]
  },
  {
   "cell_type": "code",
   "execution_count": 3,
   "metadata": {},
   "outputs": [],
   "source": [
    "# creating dataframe for movie details table\n",
    "cursor.execute(\"\"\"\n",
    "    SELECT tb.primaryTitle, tb.startYear, tb.genres, tc.directors, tr.averageRating, tr.numVotes\n",
    "    FROM title_basics tb, title_crew tc, title_ratings tr \n",
    "    ON tb.tconst = tc.tconst AND tb.tconst = tr.tconst\n",
    "    where tb.isAdult = 0 and tb.titleType = 'movie'\n",
    "\"\"\")\n",
    "data = cursor.fetchall()\n",
    "col = [description[0] for description in cursor.description]\n",
    "\n",
    "df = pd.DataFrame.from_records(data=data, columns=col)"
   ]
  },
  {
   "cell_type": "code",
   "execution_count": 4,
   "metadata": {},
   "outputs": [
    {
     "data": {
      "text/plain": [
       "(219235, 6)"
      ]
     },
     "execution_count": 4,
     "metadata": {},
     "output_type": "execute_result"
    }
   ],
   "source": [
    "df.shape"
   ]
  },
  {
   "cell_type": "markdown",
   "metadata": {},
   "source": [
    "## Exploratory analysis"
   ]
  },
  {
   "cell_type": "code",
   "execution_count": 5,
   "metadata": {},
   "outputs": [
    {
     "data": {
      "text/html": [
       "<div>\n",
       "<style scoped>\n",
       "    .dataframe tbody tr th:only-of-type {\n",
       "        vertical-align: middle;\n",
       "    }\n",
       "\n",
       "    .dataframe tbody tr th {\n",
       "        vertical-align: top;\n",
       "    }\n",
       "\n",
       "    .dataframe thead th {\n",
       "        text-align: right;\n",
       "    }\n",
       "</style>\n",
       "<table border=\"1\" class=\"dataframe\">\n",
       "  <thead>\n",
       "    <tr style=\"text-align: right;\">\n",
       "      <th></th>\n",
       "      <th>primaryTitle</th>\n",
       "      <th>startYear</th>\n",
       "      <th>genres</th>\n",
       "      <th>directors</th>\n",
       "      <th>averageRating</th>\n",
       "      <th>numVotes</th>\n",
       "    </tr>\n",
       "  </thead>\n",
       "  <tbody>\n",
       "    <tr>\n",
       "      <th>0</th>\n",
       "      <td>Miss Jerry</td>\n",
       "      <td>1894</td>\n",
       "      <td>Romance</td>\n",
       "      <td>nm0085156</td>\n",
       "      <td>5.3</td>\n",
       "      <td>200</td>\n",
       "    </tr>\n",
       "    <tr>\n",
       "      <th>1</th>\n",
       "      <td>Bohemios</td>\n",
       "      <td>1905</td>\n",
       "      <td>\\N</td>\n",
       "      <td>nm0063413</td>\n",
       "      <td>4.2</td>\n",
       "      <td>14</td>\n",
       "    </tr>\n",
       "    <tr>\n",
       "      <th>2</th>\n",
       "      <td>The Story of the Kelly Gang</td>\n",
       "      <td>1906</td>\n",
       "      <td>Action,Adventure,Biography</td>\n",
       "      <td>nm0846879</td>\n",
       "      <td>6.0</td>\n",
       "      <td>797</td>\n",
       "    </tr>\n",
       "    <tr>\n",
       "      <th>3</th>\n",
       "      <td>The Prodigal Son</td>\n",
       "      <td>1907</td>\n",
       "      <td>Drama</td>\n",
       "      <td>nm0141150</td>\n",
       "      <td>5.1</td>\n",
       "      <td>20</td>\n",
       "    </tr>\n",
       "    <tr>\n",
       "      <th>4</th>\n",
       "      <td>Robbery Under Arms</td>\n",
       "      <td>1907</td>\n",
       "      <td>Drama</td>\n",
       "      <td>nm0533958</td>\n",
       "      <td>4.3</td>\n",
       "      <td>23</td>\n",
       "    </tr>\n",
       "  </tbody>\n",
       "</table>\n",
       "</div>"
      ],
      "text/plain": [
       "                  primaryTitle startYear                      genres  \\\n",
       "0                   Miss Jerry      1894                     Romance   \n",
       "1                     Bohemios      1905                          \\N   \n",
       "2  The Story of the Kelly Gang      1906  Action,Adventure,Biography   \n",
       "3             The Prodigal Son      1907                       Drama   \n",
       "4           Robbery Under Arms      1907                       Drama   \n",
       "\n",
       "   directors averageRating numVotes  \n",
       "0  nm0085156           5.3      200  \n",
       "1  nm0063413           4.2       14  \n",
       "2  nm0846879           6.0      797  \n",
       "3  nm0141150           5.1       20  \n",
       "4  nm0533958           4.3       23  "
      ]
     },
     "execution_count": 5,
     "metadata": {},
     "output_type": "execute_result"
    }
   ],
   "source": [
    "df.head()"
   ]
  },
  {
   "cell_type": "code",
   "execution_count": 6,
   "metadata": {},
   "outputs": [],
   "source": [
    "# convert data types\n",
    "df['averageRating'] = df['averageRating'].astype(float)\n",
    "df['numVotes'] = df['numVotes'].astype(int)"
   ]
  },
  {
   "cell_type": "code",
   "execution_count": 7,
   "metadata": {},
   "outputs": [
    {
     "data": {
      "text/html": [
       "<div>\n",
       "<style scoped>\n",
       "    .dataframe tbody tr th:only-of-type {\n",
       "        vertical-align: middle;\n",
       "    }\n",
       "\n",
       "    .dataframe tbody tr th {\n",
       "        vertical-align: top;\n",
       "    }\n",
       "\n",
       "    .dataframe thead th {\n",
       "        text-align: right;\n",
       "    }\n",
       "</style>\n",
       "<table border=\"1\" class=\"dataframe\">\n",
       "  <thead>\n",
       "    <tr style=\"text-align: right;\">\n",
       "      <th></th>\n",
       "      <th>primaryTitle</th>\n",
       "      <th>startYear</th>\n",
       "      <th>genres</th>\n",
       "      <th>directors</th>\n",
       "      <th>averageRating</th>\n",
       "      <th>numVotes</th>\n",
       "    </tr>\n",
       "  </thead>\n",
       "  <tbody>\n",
       "    <tr>\n",
       "      <th>150</th>\n",
       "      <td>Captain Alvarez</td>\n",
       "      <td>1914</td>\n",
       "      <td>Drama</td>\n",
       "      <td>nm0836316</td>\n",
       "      <td>8.0</td>\n",
       "      <td>17</td>\n",
       "    </tr>\n",
       "    <tr>\n",
       "      <th>192</th>\n",
       "      <td>The Man from Mexico</td>\n",
       "      <td>1914</td>\n",
       "      <td>Comedy</td>\n",
       "      <td>nm0373614</td>\n",
       "      <td>8.5</td>\n",
       "      <td>39</td>\n",
       "    </tr>\n",
       "    <tr>\n",
       "      <th>245</th>\n",
       "      <td>1915 World's Championship Series</td>\n",
       "      <td>1915</td>\n",
       "      <td>Documentary,Sport</td>\n",
       "      <td>\\N</td>\n",
       "      <td>8.4</td>\n",
       "      <td>20</td>\n",
       "    </tr>\n",
       "    <tr>\n",
       "      <th>283</th>\n",
       "      <td>The Devil</td>\n",
       "      <td>1915</td>\n",
       "      <td>Drama</td>\n",
       "      <td>nm0054977,nm0408436</td>\n",
       "      <td>8.3</td>\n",
       "      <td>18</td>\n",
       "    </tr>\n",
       "    <tr>\n",
       "      <th>285</th>\n",
       "      <td>The Dictator</td>\n",
       "      <td>1915</td>\n",
       "      <td>Adventure,Romance</td>\n",
       "      <td>nm0247107</td>\n",
       "      <td>8.0</td>\n",
       "      <td>45</td>\n",
       "    </tr>\n",
       "    <tr>\n",
       "      <th>...</th>\n",
       "      <td>...</td>\n",
       "      <td>...</td>\n",
       "      <td>...</td>\n",
       "      <td>...</td>\n",
       "      <td>...</td>\n",
       "      <td>...</td>\n",
       "    </tr>\n",
       "    <tr>\n",
       "      <th>219210</th>\n",
       "      <td>Dosage Volume I</td>\n",
       "      <td>2002</td>\n",
       "      <td>Action,Documentary,Sport</td>\n",
       "      <td>nm1355731</td>\n",
       "      <td>8.3</td>\n",
       "      <td>7</td>\n",
       "    </tr>\n",
       "    <tr>\n",
       "      <th>219213</th>\n",
       "      <td>Your Iron Lady</td>\n",
       "      <td>2020</td>\n",
       "      <td>Drama</td>\n",
       "      <td>nm5609795</td>\n",
       "      <td>8.6</td>\n",
       "      <td>15</td>\n",
       "    </tr>\n",
       "    <tr>\n",
       "      <th>219222</th>\n",
       "      <td>Ott Tänak: The Movie</td>\n",
       "      <td>2019</td>\n",
       "      <td>Documentary,Sport</td>\n",
       "      <td>nm4942142</td>\n",
       "      <td>8.1</td>\n",
       "      <td>488</td>\n",
       "    </tr>\n",
       "    <tr>\n",
       "      <th>219224</th>\n",
       "      <td>Pengalila</td>\n",
       "      <td>2019</td>\n",
       "      <td>Drama</td>\n",
       "      <td>nm0151535</td>\n",
       "      <td>8.0</td>\n",
       "      <td>678</td>\n",
       "    </tr>\n",
       "    <tr>\n",
       "      <th>219225</th>\n",
       "      <td>Hand Rolled</td>\n",
       "      <td>2019</td>\n",
       "      <td>Documentary</td>\n",
       "      <td>nm10523880,nm10533931</td>\n",
       "      <td>8.2</td>\n",
       "      <td>30</td>\n",
       "    </tr>\n",
       "  </tbody>\n",
       "</table>\n",
       "<p>19677 rows × 6 columns</p>\n",
       "</div>"
      ],
      "text/plain": [
       "                            primaryTitle startYear                    genres  \\\n",
       "150                      Captain Alvarez      1914                     Drama   \n",
       "192                  The Man from Mexico      1914                    Comedy   \n",
       "245     1915 World's Championship Series      1915         Documentary,Sport   \n",
       "283                            The Devil      1915                     Drama   \n",
       "285                         The Dictator      1915         Adventure,Romance   \n",
       "...                                  ...       ...                       ...   \n",
       "219210                   Dosage Volume I      2002  Action,Documentary,Sport   \n",
       "219213                    Your Iron Lady      2020                     Drama   \n",
       "219222              Ott Tänak: The Movie      2019         Documentary,Sport   \n",
       "219224                         Pengalila      2019                     Drama   \n",
       "219225                       Hand Rolled      2019               Documentary   \n",
       "\n",
       "                    directors  averageRating  numVotes  \n",
       "150                 nm0836316            8.0        17  \n",
       "192                 nm0373614            8.5        39  \n",
       "245                        \\N            8.4        20  \n",
       "283       nm0054977,nm0408436            8.3        18  \n",
       "285                 nm0247107            8.0        45  \n",
       "...                       ...            ...       ...  \n",
       "219210              nm1355731            8.3         7  \n",
       "219213              nm5609795            8.6        15  \n",
       "219222              nm4942142            8.1       488  \n",
       "219224              nm0151535            8.0       678  \n",
       "219225  nm10523880,nm10533931            8.2        30  \n",
       "\n",
       "[19677 rows x 6 columns]"
      ]
     },
     "execution_count": 7,
     "metadata": {},
     "output_type": "execute_result"
    }
   ],
   "source": [
    "# apply filters to reduce dataset\n",
    "df_above5 = df[df['averageRating'] >= 8.0]\n",
    "df_above5"
   ]
  },
  {
   "cell_type": "code",
   "execution_count": 8,
   "metadata": {},
   "outputs": [
    {
     "data": {
      "text/html": [
       "<div>\n",
       "<style scoped>\n",
       "    .dataframe tbody tr th:only-of-type {\n",
       "        vertical-align: middle;\n",
       "    }\n",
       "\n",
       "    .dataframe tbody tr th {\n",
       "        vertical-align: top;\n",
       "    }\n",
       "\n",
       "    .dataframe thead th {\n",
       "        text-align: right;\n",
       "    }\n",
       "</style>\n",
       "<table border=\"1\" class=\"dataframe\">\n",
       "  <thead>\n",
       "    <tr style=\"text-align: right;\">\n",
       "      <th></th>\n",
       "      <th>primaryTitle</th>\n",
       "      <th>startYear</th>\n",
       "      <th>genres</th>\n",
       "      <th>directors</th>\n",
       "      <th>averageRating</th>\n",
       "      <th>numVotes</th>\n",
       "    </tr>\n",
       "  </thead>\n",
       "  <tbody>\n",
       "    <tr>\n",
       "      <th>995</th>\n",
       "      <td>The Cabinet of Dr. Caligari</td>\n",
       "      <td>1920</td>\n",
       "      <td>Horror,Mystery,Thriller</td>\n",
       "      <td>nm0927468</td>\n",
       "      <td>8.0</td>\n",
       "      <td>64645</td>\n",
       "    </tr>\n",
       "    <tr>\n",
       "      <th>1407</th>\n",
       "      <td>The Kid</td>\n",
       "      <td>1921</td>\n",
       "      <td>Comedy,Drama,Family</td>\n",
       "      <td>nm0000122</td>\n",
       "      <td>8.3</td>\n",
       "      <td>126941</td>\n",
       "    </tr>\n",
       "    <tr>\n",
       "      <th>1412</th>\n",
       "      <td>The Phantom Carriage</td>\n",
       "      <td>1921</td>\n",
       "      <td>Drama,Fantasy,Horror</td>\n",
       "      <td>nm0803705</td>\n",
       "      <td>8.0</td>\n",
       "      <td>12789</td>\n",
       "    </tr>\n",
       "    <tr>\n",
       "      <th>1872</th>\n",
       "      <td>Safety Last!</td>\n",
       "      <td>1923</td>\n",
       "      <td>Action,Comedy,Thriller</td>\n",
       "      <td>nm0628345,nm0853130</td>\n",
       "      <td>8.1</td>\n",
       "      <td>20981</td>\n",
       "    </tr>\n",
       "    <tr>\n",
       "      <th>2029</th>\n",
       "      <td>The Last Laugh</td>\n",
       "      <td>1924</td>\n",
       "      <td>Drama</td>\n",
       "      <td>nm0003638</td>\n",
       "      <td>8.0</td>\n",
       "      <td>14221</td>\n",
       "    </tr>\n",
       "    <tr>\n",
       "      <th>...</th>\n",
       "      <td>...</td>\n",
       "      <td>...</td>\n",
       "      <td>...</td>\n",
       "      <td>...</td>\n",
       "      <td>...</td>\n",
       "      <td>...</td>\n",
       "    </tr>\n",
       "    <tr>\n",
       "      <th>218649</th>\n",
       "      <td>Brochevarevarura</td>\n",
       "      <td>2019</td>\n",
       "      <td>Comedy</td>\n",
       "      <td>nm9445831</td>\n",
       "      <td>8.0</td>\n",
       "      <td>4145</td>\n",
       "    </tr>\n",
       "    <tr>\n",
       "      <th>218650</th>\n",
       "      <td>Mallesham</td>\n",
       "      <td>2019</td>\n",
       "      <td>Biography</td>\n",
       "      <td>nm10459557</td>\n",
       "      <td>8.3</td>\n",
       "      <td>1074</td>\n",
       "    </tr>\n",
       "    <tr>\n",
       "      <th>218981</th>\n",
       "      <td>The Bee Gees: How Can You Mend a Broken Heart</td>\n",
       "      <td>2020</td>\n",
       "      <td>Biography,Documentary,Music</td>\n",
       "      <td>nm0550881</td>\n",
       "      <td>8.1</td>\n",
       "      <td>4914</td>\n",
       "    </tr>\n",
       "    <tr>\n",
       "      <th>218988</th>\n",
       "      <td>Major</td>\n",
       "      <td>2022</td>\n",
       "      <td>Action,Biography,Drama</td>\n",
       "      <td>nm3481620</td>\n",
       "      <td>8.2</td>\n",
       "      <td>27793</td>\n",
       "    </tr>\n",
       "    <tr>\n",
       "      <th>219204</th>\n",
       "      <td>Kaithi</td>\n",
       "      <td>2019</td>\n",
       "      <td>Action,Adventure,Crime</td>\n",
       "      <td>nm7992231</td>\n",
       "      <td>8.5</td>\n",
       "      <td>32445</td>\n",
       "    </tr>\n",
       "  </tbody>\n",
       "</table>\n",
       "<p>1307 rows × 6 columns</p>\n",
       "</div>"
      ],
      "text/plain": [
       "                                         primaryTitle startYear  \\\n",
       "995                       The Cabinet of Dr. Caligari      1920   \n",
       "1407                                          The Kid      1921   \n",
       "1412                             The Phantom Carriage      1921   \n",
       "1872                                     Safety Last!      1923   \n",
       "2029                                   The Last Laugh      1924   \n",
       "...                                               ...       ...   \n",
       "218649                               Brochevarevarura      2019   \n",
       "218650                                      Mallesham      2019   \n",
       "218981  The Bee Gees: How Can You Mend a Broken Heart      2020   \n",
       "218988                                          Major      2022   \n",
       "219204                                         Kaithi      2019   \n",
       "\n",
       "                             genres            directors  averageRating  \\\n",
       "995         Horror,Mystery,Thriller            nm0927468            8.0   \n",
       "1407            Comedy,Drama,Family            nm0000122            8.3   \n",
       "1412           Drama,Fantasy,Horror            nm0803705            8.0   \n",
       "1872         Action,Comedy,Thriller  nm0628345,nm0853130            8.1   \n",
       "2029                          Drama            nm0003638            8.0   \n",
       "...                             ...                  ...            ...   \n",
       "218649                       Comedy            nm9445831            8.0   \n",
       "218650                    Biography           nm10459557            8.3   \n",
       "218981  Biography,Documentary,Music            nm0550881            8.1   \n",
       "218988       Action,Biography,Drama            nm3481620            8.2   \n",
       "219204       Action,Adventure,Crime            nm7992231            8.5   \n",
       "\n",
       "        numVotes  \n",
       "995        64645  \n",
       "1407      126941  \n",
       "1412       12789  \n",
       "1872       20981  \n",
       "2029       14221  \n",
       "...          ...  \n",
       "218649      4145  \n",
       "218650      1074  \n",
       "218981      4914  \n",
       "218988     27793  \n",
       "219204     32445  \n",
       "\n",
       "[1307 rows x 6 columns]"
      ]
     },
     "execution_count": 8,
     "metadata": {},
     "output_type": "execute_result"
    }
   ],
   "source": [
    "# apply filters to reduce dataset\n",
    "df_clean = df_above5[df_above5['numVotes'] >= 1000]\n",
    "df_clean"
   ]
  },
  {
   "cell_type": "code",
   "execution_count": 9,
   "metadata": {},
   "outputs": [
    {
     "name": "stderr",
     "output_type": "stream",
     "text": [
      "/tmp/ipykernel_11674/1430223804.py:2: SettingWithCopyWarning: \n",
      "A value is trying to be set on a copy of a slice from a DataFrame.\n",
      "Try using .loc[row_indexer,col_indexer] = value instead\n",
      "\n",
      "See the caveats in the documentation: https://pandas.pydata.org/pandas-docs/stable/user_guide/indexing.html#returning-a-view-versus-a-copy\n",
      "  df_clean['genres'] = df_clean['genres'].astype(\"string\")\n",
      "/tmp/ipykernel_11674/1430223804.py:3: SettingWithCopyWarning: \n",
      "A value is trying to be set on a copy of a slice from a DataFrame.\n",
      "Try using .loc[row_indexer,col_indexer] = value instead\n",
      "\n",
      "See the caveats in the documentation: https://pandas.pydata.org/pandas-docs/stable/user_guide/indexing.html#returning-a-view-versus-a-copy\n",
      "  df_clean['directors'] = df_clean['directors'].astype(\"string\")\n"
     ]
    }
   ],
   "source": [
    "# convert data types\n",
    "df_clean['genres'] = df_clean['genres'].astype(\"string\")\n",
    "df_clean['directors'] = df_clean['directors'].astype(\"string\")"
   ]
  },
  {
   "cell_type": "code",
   "execution_count": 10,
   "metadata": {},
   "outputs": [
    {
     "data": {
      "text/plain": [
       "primaryTitle      object\n",
       "startYear         object\n",
       "genres            string\n",
       "directors         string\n",
       "averageRating    float64\n",
       "numVotes           int64\n",
       "dtype: object"
      ]
     },
     "execution_count": 10,
     "metadata": {},
     "output_type": "execute_result"
    }
   ],
   "source": [
    "df_clean.dtypes"
   ]
  },
  {
   "cell_type": "code",
   "execution_count": 11,
   "metadata": {},
   "outputs": [
    {
     "data": {
      "text/html": [
       "<div>\n",
       "<style scoped>\n",
       "    .dataframe tbody tr th:only-of-type {\n",
       "        vertical-align: middle;\n",
       "    }\n",
       "\n",
       "    .dataframe tbody tr th {\n",
       "        vertical-align: top;\n",
       "    }\n",
       "\n",
       "    .dataframe thead th {\n",
       "        text-align: right;\n",
       "    }\n",
       "</style>\n",
       "<table border=\"1\" class=\"dataframe\">\n",
       "  <thead>\n",
       "    <tr style=\"text-align: right;\">\n",
       "      <th></th>\n",
       "      <th>primaryTitle</th>\n",
       "      <th>startYear</th>\n",
       "      <th>genres</th>\n",
       "      <th>directors</th>\n",
       "      <th>averageRating</th>\n",
       "      <th>numVotes</th>\n",
       "    </tr>\n",
       "  </thead>\n",
       "  <tbody>\n",
       "    <tr>\n",
       "      <th>995</th>\n",
       "      <td>The Cabinet of Dr. Caligari</td>\n",
       "      <td>1920</td>\n",
       "      <td>Horror,Mystery,Thriller</td>\n",
       "      <td>nm0927468</td>\n",
       "      <td>8.0</td>\n",
       "      <td>64645</td>\n",
       "    </tr>\n",
       "    <tr>\n",
       "      <th>1407</th>\n",
       "      <td>The Kid</td>\n",
       "      <td>1921</td>\n",
       "      <td>Comedy,Drama,Family</td>\n",
       "      <td>nm0000122</td>\n",
       "      <td>8.3</td>\n",
       "      <td>126941</td>\n",
       "    </tr>\n",
       "    <tr>\n",
       "      <th>1412</th>\n",
       "      <td>The Phantom Carriage</td>\n",
       "      <td>1921</td>\n",
       "      <td>Drama,Fantasy,Horror</td>\n",
       "      <td>nm0803705</td>\n",
       "      <td>8.0</td>\n",
       "      <td>12789</td>\n",
       "    </tr>\n",
       "    <tr>\n",
       "      <th>1872</th>\n",
       "      <td>Safety Last!</td>\n",
       "      <td>1923</td>\n",
       "      <td>Action,Comedy,Thriller</td>\n",
       "      <td>nm0628345,nm0853130</td>\n",
       "      <td>8.1</td>\n",
       "      <td>20981</td>\n",
       "    </tr>\n",
       "    <tr>\n",
       "      <th>2029</th>\n",
       "      <td>The Last Laugh</td>\n",
       "      <td>1924</td>\n",
       "      <td>Drama</td>\n",
       "      <td>nm0003638</td>\n",
       "      <td>8.0</td>\n",
       "      <td>14221</td>\n",
       "    </tr>\n",
       "  </tbody>\n",
       "</table>\n",
       "</div>"
      ],
      "text/plain": [
       "                     primaryTitle startYear                   genres  \\\n",
       "995   The Cabinet of Dr. Caligari      1920  Horror,Mystery,Thriller   \n",
       "1407                      The Kid      1921      Comedy,Drama,Family   \n",
       "1412         The Phantom Carriage      1921     Drama,Fantasy,Horror   \n",
       "1872                 Safety Last!      1923   Action,Comedy,Thriller   \n",
       "2029               The Last Laugh      1924                    Drama   \n",
       "\n",
       "                directors  averageRating  numVotes  \n",
       "995             nm0927468            8.0     64645  \n",
       "1407            nm0000122            8.3    126941  \n",
       "1412            nm0803705            8.0     12789  \n",
       "1872  nm0628345,nm0853130            8.1     20981  \n",
       "2029            nm0003638            8.0     14221  "
      ]
     },
     "execution_count": 11,
     "metadata": {},
     "output_type": "execute_result"
    }
   ],
   "source": [
    "df_clean.head()"
   ]
  },
  {
   "cell_type": "markdown",
   "metadata": {},
   "source": [
    "## Data processing"
   ]
  },
  {
   "cell_type": "code",
   "execution_count": 12,
   "metadata": {},
   "outputs": [],
   "source": [
    "# Function to convert all strings to lower case and strip names of spaces\n",
    "def clean_data(x):\n",
    "    if isinstance(x, list):\n",
    "        return [str.lower(i.replace(\" \", \"\")) for i in x]\n",
    "    else:\n",
    "        #Check if director exists. If not, return empty string\n",
    "        if isinstance(x, str):\n",
    "            return str.lower(x.replace(\" \", \"\"))\n",
    "        else:\n",
    "            return ''"
   ]
  },
  {
   "cell_type": "code",
   "execution_count": 13,
   "metadata": {},
   "outputs": [
    {
     "name": "stderr",
     "output_type": "stream",
     "text": [
      "/tmp/ipykernel_11674/952854994.py:5: SettingWithCopyWarning: \n",
      "A value is trying to be set on a copy of a slice from a DataFrame.\n",
      "Try using .loc[row_indexer,col_indexer] = value instead\n",
      "\n",
      "See the caveats in the documentation: https://pandas.pydata.org/pandas-docs/stable/user_guide/indexing.html#returning-a-view-versus-a-copy\n",
      "  df_clean[feature] = df_clean[feature].apply(clean_data)\n"
     ]
    }
   ],
   "source": [
    "# Apply clean_data function to your features.\n",
    "features = ['directors', 'genres']\n",
    "\n",
    "for feature in features:\n",
    "    df_clean[feature] = df_clean[feature].apply(clean_data)\n"
   ]
  },
  {
   "cell_type": "code",
   "execution_count": 14,
   "metadata": {},
   "outputs": [],
   "source": [
    "def create_soup(x):\n",
    "    return ' '.join(x['directors']) + ' ,' + ' '.join(x['genres'])"
   ]
  },
  {
   "cell_type": "code",
   "execution_count": 15,
   "metadata": {},
   "outputs": [
    {
     "name": "stderr",
     "output_type": "stream",
     "text": [
      "/tmp/ipykernel_11674/2773241301.py:2: SettingWithCopyWarning: \n",
      "A value is trying to be set on a copy of a slice from a DataFrame.\n",
      "Try using .loc[row_indexer,col_indexer] = value instead\n",
      "\n",
      "See the caveats in the documentation: https://pandas.pydata.org/pandas-docs/stable/user_guide/indexing.html#returning-a-view-versus-a-copy\n",
      "  df_clean['soup'] = df_clean.apply(create_soup, axis=1)\n"
     ]
    }
   ],
   "source": [
    "# Create a new soup column representing the features\n",
    "df_clean['soup'] = df_clean.apply(create_soup, axis=1)\n"
   ]
  },
  {
   "cell_type": "code",
   "execution_count": 16,
   "metadata": {},
   "outputs": [
    {
     "name": "stdout",
     "output_type": "stream",
     "text": [
      "995       n m 0 9 2 7 4 6 8 ,h o r r o r , m y s t e r y...\n",
      "1407      n m 0 0 0 0 1 2 2 ,c o m e d y , d r a m a , f...\n",
      "1412      n m 0 8 0 3 7 0 5 ,d r a m a , f a n t a s y ,...\n",
      "1872      n m 0 6 2 8 3 4 5 , n m 0 8 5 3 1 3 0 ,a c t i...\n",
      "2029                           n m 0 0 0 3 6 3 8 ,d r a m a\n",
      "                                ...                        \n",
      "218649                       n m 9 4 4 5 8 3 1 ,c o m e d y\n",
      "218650               n m 1 0 4 5 9 5 5 7 ,b i o g r a p h y\n",
      "218981    n m 0 5 5 0 8 8 1 ,b i o g r a p h y , d o c u...\n",
      "218988    n m 3 4 8 1 6 2 0 ,a c t i o n , b i o g r a p...\n",
      "219204    n m 7 9 9 2 2 3 1 ,a c t i o n , a d v e n t u...\n",
      "Name: soup, Length: 1307, dtype: object\n"
     ]
    }
   ],
   "source": [
    "df_clean['soup'].head()\n",
    "print(df_clean['soup'])"
   ]
  },
  {
   "cell_type": "code",
   "execution_count": 17,
   "metadata": {},
   "outputs": [
    {
     "name": "stderr",
     "output_type": "stream",
     "text": [
      "/tmp/ipykernel_11674/105095674.py:5: SettingWithCopyWarning: \n",
      "A value is trying to be set on a copy of a slice from a DataFrame.\n",
      "Try using .loc[row_indexer,col_indexer] = value instead\n",
      "\n",
      "See the caveats in the documentation: https://pandas.pydata.org/pandas-docs/stable/user_guide/indexing.html#returning-a-view-versus-a-copy\n",
      "  df_clean[feature] = df_clean[feature].apply(clean_data)\n"
     ]
    }
   ],
   "source": [
    "# clean the soup column\n",
    "features = ['soup']\n",
    "\n",
    "for feature in features:\n",
    "    df_clean[feature] = df_clean[feature].apply(clean_data)"
   ]
  },
  {
   "cell_type": "code",
   "execution_count": 18,
   "metadata": {},
   "outputs": [
    {
     "name": "stdout",
     "output_type": "stream",
     "text": [
      "995                nm0927468,horror,mystery,thriller\n",
      "1407                   nm0000122,comedy,drama,family\n",
      "1412                  nm0803705,drama,fantasy,horror\n",
      "1872      nm0628345,nm0853130,action,comedy,thriller\n",
      "2029                                 nm0003638,drama\n",
      "                             ...                    \n",
      "218649                              nm9445831,comedy\n",
      "218650                          nm10459557,biography\n",
      "218981         nm0550881,biography,documentary,music\n",
      "218988              nm3481620,action,biography,drama\n",
      "219204              nm7992231,action,adventure,crime\n",
      "Name: soup, Length: 1307, dtype: object\n"
     ]
    }
   ],
   "source": [
    "print(df_clean['soup'])"
   ]
  },
  {
   "cell_type": "code",
   "execution_count": 19,
   "metadata": {},
   "outputs": [
    {
     "name": "stderr",
     "output_type": "stream",
     "text": [
      "/tmp/ipykernel_11674/2337589423.py:2: SettingWithCopyWarning: \n",
      "A value is trying to be set on a copy of a slice from a DataFrame.\n",
      "Try using .loc[row_indexer,col_indexer] = value instead\n",
      "\n",
      "See the caveats in the documentation: https://pandas.pydata.org/pandas-docs/stable/user_guide/indexing.html#returning-a-view-versus-a-copy\n",
      "  df_clean['soup'] = df_clean['soup'].replace(',', ' ', regex=True)\n"
     ]
    }
   ],
   "source": [
    "# Function to convert all strings to lower case and strip names of spaces\n",
    "df_clean['soup'] = df_clean['soup'].replace(',', ' ', regex=True)"
   ]
  },
  {
   "cell_type": "code",
   "execution_count": 20,
   "metadata": {},
   "outputs": [
    {
     "data": {
      "text/html": [
       "<div>\n",
       "<style scoped>\n",
       "    .dataframe tbody tr th:only-of-type {\n",
       "        vertical-align: middle;\n",
       "    }\n",
       "\n",
       "    .dataframe tbody tr th {\n",
       "        vertical-align: top;\n",
       "    }\n",
       "\n",
       "    .dataframe thead th {\n",
       "        text-align: right;\n",
       "    }\n",
       "</style>\n",
       "<table border=\"1\" class=\"dataframe\">\n",
       "  <thead>\n",
       "    <tr style=\"text-align: right;\">\n",
       "      <th></th>\n",
       "      <th>primaryTitle</th>\n",
       "      <th>startYear</th>\n",
       "      <th>genres</th>\n",
       "      <th>directors</th>\n",
       "      <th>averageRating</th>\n",
       "      <th>numVotes</th>\n",
       "      <th>soup</th>\n",
       "    </tr>\n",
       "  </thead>\n",
       "  <tbody>\n",
       "    <tr>\n",
       "      <th>995</th>\n",
       "      <td>The Cabinet of Dr. Caligari</td>\n",
       "      <td>1920</td>\n",
       "      <td>horror,mystery,thriller</td>\n",
       "      <td>nm0927468</td>\n",
       "      <td>8.0</td>\n",
       "      <td>64645</td>\n",
       "      <td>nm0927468 horror mystery thriller</td>\n",
       "    </tr>\n",
       "    <tr>\n",
       "      <th>1407</th>\n",
       "      <td>The Kid</td>\n",
       "      <td>1921</td>\n",
       "      <td>comedy,drama,family</td>\n",
       "      <td>nm0000122</td>\n",
       "      <td>8.3</td>\n",
       "      <td>126941</td>\n",
       "      <td>nm0000122 comedy drama family</td>\n",
       "    </tr>\n",
       "    <tr>\n",
       "      <th>1412</th>\n",
       "      <td>The Phantom Carriage</td>\n",
       "      <td>1921</td>\n",
       "      <td>drama,fantasy,horror</td>\n",
       "      <td>nm0803705</td>\n",
       "      <td>8.0</td>\n",
       "      <td>12789</td>\n",
       "      <td>nm0803705 drama fantasy horror</td>\n",
       "    </tr>\n",
       "    <tr>\n",
       "      <th>1872</th>\n",
       "      <td>Safety Last!</td>\n",
       "      <td>1923</td>\n",
       "      <td>action,comedy,thriller</td>\n",
       "      <td>nm0628345,nm0853130</td>\n",
       "      <td>8.1</td>\n",
       "      <td>20981</td>\n",
       "      <td>nm0628345 nm0853130 action comedy thriller</td>\n",
       "    </tr>\n",
       "    <tr>\n",
       "      <th>2029</th>\n",
       "      <td>The Last Laugh</td>\n",
       "      <td>1924</td>\n",
       "      <td>drama</td>\n",
       "      <td>nm0003638</td>\n",
       "      <td>8.0</td>\n",
       "      <td>14221</td>\n",
       "      <td>nm0003638 drama</td>\n",
       "    </tr>\n",
       "  </tbody>\n",
       "</table>\n",
       "</div>"
      ],
      "text/plain": [
       "                     primaryTitle startYear                   genres  \\\n",
       "995   The Cabinet of Dr. Caligari      1920  horror,mystery,thriller   \n",
       "1407                      The Kid      1921      comedy,drama,family   \n",
       "1412         The Phantom Carriage      1921     drama,fantasy,horror   \n",
       "1872                 Safety Last!      1923   action,comedy,thriller   \n",
       "2029               The Last Laugh      1924                    drama   \n",
       "\n",
       "                directors  averageRating  numVotes  \\\n",
       "995             nm0927468            8.0     64645   \n",
       "1407            nm0000122            8.3    126941   \n",
       "1412            nm0803705            8.0     12789   \n",
       "1872  nm0628345,nm0853130            8.1     20981   \n",
       "2029            nm0003638            8.0     14221   \n",
       "\n",
       "                                            soup  \n",
       "995            nm0927468 horror mystery thriller  \n",
       "1407               nm0000122 comedy drama family  \n",
       "1412              nm0803705 drama fantasy horror  \n",
       "1872  nm0628345 nm0853130 action comedy thriller  \n",
       "2029                             nm0003638 drama  "
      ]
     },
     "execution_count": 20,
     "metadata": {},
     "output_type": "execute_result"
    }
   ],
   "source": [
    "df_clean.head()"
   ]
  },
  {
   "cell_type": "code",
   "execution_count": 21,
   "metadata": {},
   "outputs": [
    {
     "name": "stderr",
     "output_type": "stream",
     "text": [
      "/tmp/ipykernel_11674/291099518.py:2: SettingWithCopyWarning: \n",
      "A value is trying to be set on a copy of a slice from a DataFrame.\n",
      "Try using .loc[row_indexer,col_indexer] = value instead\n",
      "\n",
      "See the caveats in the documentation: https://pandas.pydata.org/pandas-docs/stable/user_guide/indexing.html#returning-a-view-versus-a-copy\n",
      "  df_clean['primaryTitle'] = df_clean['primaryTitle'].astype(\"string\")\n"
     ]
    }
   ],
   "source": [
    "# convert data types\n",
    "df_clean['primaryTitle'] = df_clean['primaryTitle'].astype(\"string\")"
   ]
  },
  {
   "cell_type": "code",
   "execution_count": 22,
   "metadata": {},
   "outputs": [],
   "source": [
    "df_clean = df_clean.reset_index()"
   ]
  },
  {
   "cell_type": "code",
   "execution_count": 23,
   "metadata": {},
   "outputs": [
    {
     "data": {
      "text/plain": [
       "index              int64\n",
       "primaryTitle      string\n",
       "startYear         object\n",
       "genres            object\n",
       "directors         object\n",
       "averageRating    float64\n",
       "numVotes           int64\n",
       "soup              object\n",
       "dtype: object"
      ]
     },
     "execution_count": 23,
     "metadata": {},
     "output_type": "execute_result"
    }
   ],
   "source": [
    "df_clean.dtypes"
   ]
  },
  {
   "cell_type": "markdown",
   "metadata": {},
   "source": [
    "## Create 1 vector for each movie and calculate their similarities"
   ]
  },
  {
   "cell_type": "code",
   "execution_count": 24,
   "metadata": {},
   "outputs": [],
   "source": [
    "# Import CountVectorizer and one vector per movie for the soup column\n",
    "count = CountVectorizer(stop_words='english')\n",
    "count_matrix = count.fit_transform(df_clean['soup'])"
   ]
  },
  {
   "cell_type": "code",
   "execution_count": 25,
   "metadata": {},
   "outputs": [
    {
     "data": {
      "text/plain": [
       "<1x1148 sparse matrix of type '<class 'numpy.int64'>'\n",
       "\twith 4 stored elements in Compressed Sparse Row format>"
      ]
     },
     "execution_count": 25,
     "metadata": {},
     "output_type": "execute_result"
    }
   ],
   "source": [
    "count_matrix[0]"
   ]
  },
  {
   "cell_type": "code",
   "execution_count": 26,
   "metadata": {},
   "outputs": [],
   "source": [
    "# "
   ]
  },
  {
   "cell_type": "code",
   "execution_count": 27,
   "metadata": {},
   "outputs": [],
   "source": [
    "# Compute the Cosine Similarity matrix for every vector\n",
    "cosine_sim2 = cosine_similarity(count_matrix, count_matrix)\n"
   ]
  },
  {
   "cell_type": "code",
   "execution_count": 28,
   "metadata": {},
   "outputs": [
    {
     "data": {
      "text/plain": [
       "numpy.ndarray"
      ]
     },
     "execution_count": 28,
     "metadata": {},
     "output_type": "execute_result"
    }
   ],
   "source": [
    "type(cosine_sim2)"
   ]
  },
  {
   "cell_type": "code",
   "execution_count": 29,
   "metadata": {},
   "outputs": [],
   "source": [
    "# Function that takes in a list of movie titles as input and outputs 10 most similar movies\n",
    "def get_recommendations_list(liked_movies_list, cosine_sim=cosine_sim2):\n",
    "    # Get the index of the movie that matches the title\n",
    "    \n",
    "    idx_list=[]\n",
    "    for m in liked_movies_list:\n",
    "        \n",
    "        idx = df_clean.index[df_clean['primaryTitle'] == m]\n",
    "        idx_list.append(idx)\n",
    "\n",
    "    df_sim_list=pd.DataFrame()\n",
    "    print(idx_list)\n",
    "    for m in idx_list:\n",
    "        sim_scores = cosine_sim2[m]\n",
    "        df_sim=pd.DataFrame(sim_scores.reshape(-1),columns=[m])\n",
    "        df_sim_list[m]=df_sim\n",
    "\n",
    "    df_sim_list['average']=df_sim_list.mean(numeric_only=True, axis=1)\n",
    "\n",
    "    rslt_df = df_sim_list.sort_values(by='average',ascending=False)\n",
    "\n",
    "    # print(rslt_df[0:11])\n",
    "    rec_list=rslt_df.reset_index()\n",
    "    list1=[]\n",
    "    list1=rec_list['index'][0:11].values\n",
    "\n",
    "    # Return the top 10 most similar movies\n",
    "    return df_clean['primaryTitle'].iloc[list1]\n"
   ]
  },
  {
   "cell_type": "code",
   "execution_count": 31,
   "metadata": {},
   "outputs": [
    {
     "name": "stdout",
     "output_type": "stream",
     "text": [
      "[Int64Index([4], dtype='int64'), Int64Index([3], dtype='int64'), Int64Index([1], dtype='int64')]\n",
      "1                       The Kid\n",
      "4                The Last Laugh\n",
      "595                  Happy Days\n",
      "570                  Our Family\n",
      "37           The Great Dictator\n",
      "454               Laughing Eyes\n",
      "27                 Modern Times\n",
      "22                  City Lights\n",
      "830            Ratnan Prapancha\n",
      "87      The Kingdom of Diamonds\n",
      "1057            #Kaadal Kahaani\n",
      "Name: primaryTitle, dtype: string\n"
     ]
    }
   ],
   "source": [
    "liked_movies_list=['The Last Laugh','Safety Last!','The Kid']\n",
    "\n",
    "recommendations = get_recommendations_list(liked_movies_list)\n",
    "print(recommendations)"
   ]
  }
 ],
 "metadata": {
  "kernelspec": {
   "display_name": "Python 3.10.6 ('venv': venv)",
   "language": "python",
   "name": "python3"
  },
  "language_info": {
   "codemirror_mode": {
    "name": "ipython",
    "version": 3
   },
   "file_extension": ".py",
   "mimetype": "text/x-python",
   "name": "python",
   "nbconvert_exporter": "python",
   "pygments_lexer": "ipython3",
   "version": "3.10.6"
  },
  "orig_nbformat": 4,
  "vscode": {
   "interpreter": {
    "hash": "b11276c3a543d9859b6dbc11da7634481824fc7a9002fc62915bc2ca215f4cc0"
   }
  }
 },
 "nbformat": 4,
 "nbformat_minor": 2
}
