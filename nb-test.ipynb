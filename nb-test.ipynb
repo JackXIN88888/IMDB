{
 "cells": [
  {
   "cell_type": "markdown",
   "metadata": {},
   "source": [
    "# Recommendation system"
   ]
  },
  {
   "cell_type": "markdown",
   "metadata": {},
   "source": [
    "## Imports and db connection"
   ]
  },
  {
   "cell_type": "code",
   "execution_count": 1,
   "metadata": {},
   "outputs": [],
   "source": [
    "import sqlite3\n",
    "from sklearn.feature_extraction.text import CountVectorizer\n",
    "from sklearn.metrics.pairwise import cosine_similarity\n",
    "import pandas as pd\n",
    "#import streamlit as st\n",
    "import time\n",
    "import matplotlib.pyplot as plt"
   ]
  },
  {
   "cell_type": "code",
   "execution_count": 2,
   "metadata": {},
   "outputs": [],
   "source": [
    "connexion = sqlite3.connect(\"database/imdb/imdb.db\")\n",
    "cursor = connexion.cursor()"
   ]
  },
  {
   "cell_type": "code",
   "execution_count": 3,
   "metadata": {},
   "outputs": [],
   "source": [
    "# creating dataframe for movie details table\n",
    "cursor.execute(\"\"\"\n",
    "    SELECT tb.primaryTitle, tb.startYear, tb.genres, tc.directors, tr.averageRating, tr.numVotes\n",
    "    FROM title_basics tb, title_crew tc, title_ratings tr \n",
    "    ON tb.tconst = tc.tconst AND tb.tconst = tr.tconst\n",
    "\"\"\")\n",
    "data = cursor.fetchall()\n",
    "col = [description[0] for description in cursor.description]\n",
    "\n",
    "df = pd.DataFrame.from_records(data=data, columns=col)"
   ]
  },
  {
   "cell_type": "code",
   "execution_count": 4,
   "metadata": {},
   "outputs": [
    {
     "data": {
      "text/plain": [
       "(1011940, 6)"
      ]
     },
     "execution_count": 4,
     "metadata": {},
     "output_type": "execute_result"
    }
   ],
   "source": [
    "df.shape"
   ]
  },
  {
   "cell_type": "code",
   "execution_count": 5,
   "metadata": {},
   "outputs": [
    {
     "data": {
      "text/html": [
       "<div>\n",
       "<style scoped>\n",
       "    .dataframe tbody tr th:only-of-type {\n",
       "        vertical-align: middle;\n",
       "    }\n",
       "\n",
       "    .dataframe tbody tr th {\n",
       "        vertical-align: top;\n",
       "    }\n",
       "\n",
       "    .dataframe thead th {\n",
       "        text-align: right;\n",
       "    }\n",
       "</style>\n",
       "<table border=\"1\" class=\"dataframe\">\n",
       "  <thead>\n",
       "    <tr style=\"text-align: right;\">\n",
       "      <th></th>\n",
       "      <th>primaryTitle</th>\n",
       "      <th>startYear</th>\n",
       "      <th>genres</th>\n",
       "      <th>directors</th>\n",
       "      <th>averageRating</th>\n",
       "      <th>numVotes</th>\n",
       "    </tr>\n",
       "  </thead>\n",
       "  <tbody>\n",
       "    <tr>\n",
       "      <th>0</th>\n",
       "      <td>Carmencita</td>\n",
       "      <td>1894</td>\n",
       "      <td>Documentary,Short</td>\n",
       "      <td>nm0005690</td>\n",
       "      <td>5.7</td>\n",
       "      <td>1924</td>\n",
       "    </tr>\n",
       "    <tr>\n",
       "      <th>1</th>\n",
       "      <td>Le clown et ses chiens</td>\n",
       "      <td>1892</td>\n",
       "      <td>Animation,Short</td>\n",
       "      <td>nm0721526</td>\n",
       "      <td>5.8</td>\n",
       "      <td>259</td>\n",
       "    </tr>\n",
       "    <tr>\n",
       "      <th>2</th>\n",
       "      <td>Pauvre Pierrot</td>\n",
       "      <td>1892</td>\n",
       "      <td>Animation,Comedy,Romance</td>\n",
       "      <td>nm0721526</td>\n",
       "      <td>6.5</td>\n",
       "      <td>1737</td>\n",
       "    </tr>\n",
       "    <tr>\n",
       "      <th>3</th>\n",
       "      <td>Un bon bock</td>\n",
       "      <td>1892</td>\n",
       "      <td>Animation,Short</td>\n",
       "      <td>nm0721526</td>\n",
       "      <td>5.6</td>\n",
       "      <td>174</td>\n",
       "    </tr>\n",
       "    <tr>\n",
       "      <th>4</th>\n",
       "      <td>Blacksmith Scene</td>\n",
       "      <td>1893</td>\n",
       "      <td>Comedy,Short</td>\n",
       "      <td>nm0005690</td>\n",
       "      <td>6.2</td>\n",
       "      <td>2550</td>\n",
       "    </tr>\n",
       "  </tbody>\n",
       "</table>\n",
       "</div>"
      ],
      "text/plain": [
       "             primaryTitle startYear                    genres  directors  \\\n",
       "0              Carmencita      1894         Documentary,Short  nm0005690   \n",
       "1  Le clown et ses chiens      1892           Animation,Short  nm0721526   \n",
       "2          Pauvre Pierrot      1892  Animation,Comedy,Romance  nm0721526   \n",
       "3             Un bon bock      1892           Animation,Short  nm0721526   \n",
       "4        Blacksmith Scene      1893              Comedy,Short  nm0005690   \n",
       "\n",
       "  averageRating numVotes  \n",
       "0           5.7     1924  \n",
       "1           5.8      259  \n",
       "2           6.5     1737  \n",
       "3           5.6      174  \n",
       "4           6.2     2550  "
      ]
     },
     "execution_count": 5,
     "metadata": {},
     "output_type": "execute_result"
    }
   ],
   "source": [
    "df.head()"
   ]
  },
  {
   "cell_type": "code",
   "execution_count": 6,
   "metadata": {},
   "outputs": [],
   "source": [
    "df['averageRating'] = df['averageRating'].astype(float)\n",
    "df['numVotes'] = df['numVotes'].astype(int)"
   ]
  },
  {
   "cell_type": "code",
   "execution_count": 7,
   "metadata": {},
   "outputs": [
    {
     "data": {
      "text/html": [
       "<div>\n",
       "<style scoped>\n",
       "    .dataframe tbody tr th:only-of-type {\n",
       "        vertical-align: middle;\n",
       "    }\n",
       "\n",
       "    .dataframe tbody tr th {\n",
       "        vertical-align: top;\n",
       "    }\n",
       "\n",
       "    .dataframe thead th {\n",
       "        text-align: right;\n",
       "    }\n",
       "</style>\n",
       "<table border=\"1\" class=\"dataframe\">\n",
       "  <thead>\n",
       "    <tr style=\"text-align: right;\">\n",
       "      <th></th>\n",
       "      <th>primaryTitle</th>\n",
       "      <th>startYear</th>\n",
       "      <th>genres</th>\n",
       "      <th>directors</th>\n",
       "      <th>averageRating</th>\n",
       "      <th>numVotes</th>\n",
       "    </tr>\n",
       "  </thead>\n",
       "  <tbody>\n",
       "    <tr>\n",
       "      <th>289</th>\n",
       "      <td>A Trip to the Moon</td>\n",
       "      <td>1902</td>\n",
       "      <td>Action,Adventure,Comedy</td>\n",
       "      <td>nm0617588</td>\n",
       "      <td>8.2</td>\n",
       "      <td>50411</td>\n",
       "    </tr>\n",
       "    <tr>\n",
       "      <th>380</th>\n",
       "      <td>Salaviinanpolttajat</td>\n",
       "      <td>1907</td>\n",
       "      <td>Comedy,Short</td>\n",
       "      <td>nm0700930,nm0817086</td>\n",
       "      <td>8.7</td>\n",
       "      <td>14</td>\n",
       "    </tr>\n",
       "    <tr>\n",
       "      <th>476</th>\n",
       "      <td>A Visit to the Seaside at Brighton Beach, England</td>\n",
       "      <td>1910</td>\n",
       "      <td>Documentary,Short</td>\n",
       "      <td>nm0808310</td>\n",
       "      <td>8.3</td>\n",
       "      <td>19</td>\n",
       "    </tr>\n",
       "    <tr>\n",
       "      <th>584</th>\n",
       "      <td>The Message</td>\n",
       "      <td>1909</td>\n",
       "      <td>Drama,Short</td>\n",
       "      <td>nm0000428</td>\n",
       "      <td>8.1</td>\n",
       "      <td>22</td>\n",
       "    </tr>\n",
       "    <tr>\n",
       "      <th>660</th>\n",
       "      <td>We Must Do Our Best</td>\n",
       "      <td>1909</td>\n",
       "      <td>Comedy,Short</td>\n",
       "      <td>nm0111753</td>\n",
       "      <td>8.2</td>\n",
       "      <td>38</td>\n",
       "    </tr>\n",
       "    <tr>\n",
       "      <th>...</th>\n",
       "      <td>...</td>\n",
       "      <td>...</td>\n",
       "      <td>...</td>\n",
       "      <td>...</td>\n",
       "      <td>...</td>\n",
       "      <td>...</td>\n",
       "    </tr>\n",
       "    <tr>\n",
       "      <th>1011933</th>\n",
       "      <td>Professionalism</td>\n",
       "      <td>2018</td>\n",
       "      <td>Comedy,Short</td>\n",
       "      <td>\\N</td>\n",
       "      <td>8.3</td>\n",
       "      <td>31</td>\n",
       "    </tr>\n",
       "    <tr>\n",
       "      <th>1011934</th>\n",
       "      <td>Workplace Safety</td>\n",
       "      <td>2018</td>\n",
       "      <td>Comedy,Short</td>\n",
       "      <td>\\N</td>\n",
       "      <td>8.3</td>\n",
       "      <td>31</td>\n",
       "    </tr>\n",
       "    <tr>\n",
       "      <th>1011935</th>\n",
       "      <td>Confidentiality</td>\n",
       "      <td>2018</td>\n",
       "      <td>Comedy,Short</td>\n",
       "      <td>\\N</td>\n",
       "      <td>8.7</td>\n",
       "      <td>32</td>\n",
       "    </tr>\n",
       "    <tr>\n",
       "      <th>1011936</th>\n",
       "      <td>Morale</td>\n",
       "      <td>2018</td>\n",
       "      <td>Comedy,Short</td>\n",
       "      <td>\\N</td>\n",
       "      <td>8.2</td>\n",
       "      <td>32</td>\n",
       "    </tr>\n",
       "    <tr>\n",
       "      <th>1011937</th>\n",
       "      <td>Chain of Command</td>\n",
       "      <td>2018</td>\n",
       "      <td>Comedy,Short</td>\n",
       "      <td>\\N</td>\n",
       "      <td>8.3</td>\n",
       "      <td>34</td>\n",
       "    </tr>\n",
       "  </tbody>\n",
       "</table>\n",
       "<p>236415 rows × 6 columns</p>\n",
       "</div>"
      ],
      "text/plain": [
       "                                              primaryTitle startYear  \\\n",
       "289                                     A Trip to the Moon      1902   \n",
       "380                                    Salaviinanpolttajat      1907   \n",
       "476      A Visit to the Seaside at Brighton Beach, England      1910   \n",
       "584                                            The Message      1909   \n",
       "660                                    We Must Do Our Best      1909   \n",
       "...                                                    ...       ...   \n",
       "1011933                                    Professionalism      2018   \n",
       "1011934                                   Workplace Safety      2018   \n",
       "1011935                                    Confidentiality      2018   \n",
       "1011936                                             Morale      2018   \n",
       "1011937                                   Chain of Command      2018   \n",
       "\n",
       "                          genres            directors  averageRating  numVotes  \n",
       "289      Action,Adventure,Comedy            nm0617588            8.2     50411  \n",
       "380                 Comedy,Short  nm0700930,nm0817086            8.7        14  \n",
       "476            Documentary,Short            nm0808310            8.3        19  \n",
       "584                  Drama,Short            nm0000428            8.1        22  \n",
       "660                 Comedy,Short            nm0111753            8.2        38  \n",
       "...                          ...                  ...            ...       ...  \n",
       "1011933             Comedy,Short                   \\N            8.3        31  \n",
       "1011934             Comedy,Short                   \\N            8.3        31  \n",
       "1011935             Comedy,Short                   \\N            8.7        32  \n",
       "1011936             Comedy,Short                   \\N            8.2        32  \n",
       "1011937             Comedy,Short                   \\N            8.3        34  \n",
       "\n",
       "[236415 rows x 6 columns]"
      ]
     },
     "execution_count": 7,
     "metadata": {},
     "output_type": "execute_result"
    }
   ],
   "source": [
    "df_above5 = df[df['averageRating'] >= 8.0]\n",
    "df_above5"
   ]
  },
  {
   "cell_type": "code",
   "execution_count": 8,
   "metadata": {},
   "outputs": [
    {
     "data": {
      "text/html": [
       "<div>\n",
       "<style scoped>\n",
       "    .dataframe tbody tr th:only-of-type {\n",
       "        vertical-align: middle;\n",
       "    }\n",
       "\n",
       "    .dataframe tbody tr th {\n",
       "        vertical-align: top;\n",
       "    }\n",
       "\n",
       "    .dataframe thead th {\n",
       "        text-align: right;\n",
       "    }\n",
       "</style>\n",
       "<table border=\"1\" class=\"dataframe\">\n",
       "  <thead>\n",
       "    <tr style=\"text-align: right;\">\n",
       "      <th></th>\n",
       "      <th>primaryTitle</th>\n",
       "      <th>startYear</th>\n",
       "      <th>genres</th>\n",
       "      <th>directors</th>\n",
       "      <th>averageRating</th>\n",
       "      <th>numVotes</th>\n",
       "    </tr>\n",
       "  </thead>\n",
       "  <tbody>\n",
       "    <tr>\n",
       "      <th>289</th>\n",
       "      <td>A Trip to the Moon</td>\n",
       "      <td>1902</td>\n",
       "      <td>Action,Adventure,Comedy</td>\n",
       "      <td>nm0617588</td>\n",
       "      <td>8.2</td>\n",
       "      <td>50411</td>\n",
       "    </tr>\n",
       "    <tr>\n",
       "      <th>2672</th>\n",
       "      <td>The Cabinet of Dr. Caligari</td>\n",
       "      <td>1920</td>\n",
       "      <td>Horror,Mystery,Thriller</td>\n",
       "      <td>nm0927468</td>\n",
       "      <td>8.0</td>\n",
       "      <td>64645</td>\n",
       "    </tr>\n",
       "    <tr>\n",
       "      <th>2970</th>\n",
       "      <td>One Week</td>\n",
       "      <td>1920</td>\n",
       "      <td>Comedy,Short</td>\n",
       "      <td>nm0166836,nm0000036</td>\n",
       "      <td>8.1</td>\n",
       "      <td>8274</td>\n",
       "    </tr>\n",
       "    <tr>\n",
       "      <th>3179</th>\n",
       "      <td>The Kid</td>\n",
       "      <td>1921</td>\n",
       "      <td>Comedy,Drama,Family</td>\n",
       "      <td>nm0000122</td>\n",
       "      <td>8.3</td>\n",
       "      <td>126941</td>\n",
       "    </tr>\n",
       "    <tr>\n",
       "      <th>3184</th>\n",
       "      <td>The Phantom Carriage</td>\n",
       "      <td>1921</td>\n",
       "      <td>Drama,Fantasy,Horror</td>\n",
       "      <td>nm0803705</td>\n",
       "      <td>8.0</td>\n",
       "      <td>12789</td>\n",
       "    </tr>\n",
       "    <tr>\n",
       "      <th>...</th>\n",
       "      <td>...</td>\n",
       "      <td>...</td>\n",
       "      <td>...</td>\n",
       "      <td>...</td>\n",
       "      <td>...</td>\n",
       "      <td>...</td>\n",
       "    </tr>\n",
       "    <tr>\n",
       "      <th>1011676</th>\n",
       "      <td>Vaulter</td>\n",
       "      <td>2019</td>\n",
       "      <td>Drama</td>\n",
       "      <td>nm0661238</td>\n",
       "      <td>8.5</td>\n",
       "      <td>3581</td>\n",
       "    </tr>\n",
       "    <tr>\n",
       "      <th>1011677</th>\n",
       "      <td>Hunting</td>\n",
       "      <td>2019</td>\n",
       "      <td>Drama</td>\n",
       "      <td>nm0661238</td>\n",
       "      <td>9.0</td>\n",
       "      <td>4262</td>\n",
       "    </tr>\n",
       "    <tr>\n",
       "      <th>1011707</th>\n",
       "      <td>The Winter Line</td>\n",
       "      <td>2020</td>\n",
       "      <td>Drama,Mystery,Sci-Fi</td>\n",
       "      <td>nm0003557</td>\n",
       "      <td>8.2</td>\n",
       "      <td>9150</td>\n",
       "    </tr>\n",
       "    <tr>\n",
       "      <th>1011762</th>\n",
       "      <td>Kaithi</td>\n",
       "      <td>2019</td>\n",
       "      <td>Action,Adventure,Crime</td>\n",
       "      <td>nm7992231</td>\n",
       "      <td>8.5</td>\n",
       "      <td>32445</td>\n",
       "    </tr>\n",
       "    <tr>\n",
       "      <th>1011910</th>\n",
       "      <td>Hero</td>\n",
       "      <td>2019</td>\n",
       "      <td>Action,Adventure,Animation</td>\n",
       "      <td>nm2967345,nm2013928,nm1267452</td>\n",
       "      <td>9.9</td>\n",
       "      <td>96053</td>\n",
       "    </tr>\n",
       "  </tbody>\n",
       "</table>\n",
       "<p>14891 rows × 6 columns</p>\n",
       "</div>"
      ],
      "text/plain": [
       "                        primaryTitle startYear                      genres  \\\n",
       "289               A Trip to the Moon      1902     Action,Adventure,Comedy   \n",
       "2672     The Cabinet of Dr. Caligari      1920     Horror,Mystery,Thriller   \n",
       "2970                        One Week      1920                Comedy,Short   \n",
       "3179                         The Kid      1921         Comedy,Drama,Family   \n",
       "3184            The Phantom Carriage      1921        Drama,Fantasy,Horror   \n",
       "...                              ...       ...                         ...   \n",
       "1011676                      Vaulter      2019                       Drama   \n",
       "1011677                      Hunting      2019                       Drama   \n",
       "1011707              The Winter Line      2020        Drama,Mystery,Sci-Fi   \n",
       "1011762                       Kaithi      2019      Action,Adventure,Crime   \n",
       "1011910                         Hero      2019  Action,Adventure,Animation   \n",
       "\n",
       "                             directors  averageRating  numVotes  \n",
       "289                          nm0617588            8.2     50411  \n",
       "2672                         nm0927468            8.0     64645  \n",
       "2970               nm0166836,nm0000036            8.1      8274  \n",
       "3179                         nm0000122            8.3    126941  \n",
       "3184                         nm0803705            8.0     12789  \n",
       "...                                ...            ...       ...  \n",
       "1011676                      nm0661238            8.5      3581  \n",
       "1011677                      nm0661238            9.0      4262  \n",
       "1011707                      nm0003557            8.2      9150  \n",
       "1011762                      nm7992231            8.5     32445  \n",
       "1011910  nm2967345,nm2013928,nm1267452            9.9     96053  \n",
       "\n",
       "[14891 rows x 6 columns]"
      ]
     },
     "execution_count": 8,
     "metadata": {},
     "output_type": "execute_result"
    }
   ],
   "source": [
    "df_clean = df_above5[df_above5['numVotes'] >= 1000]\n",
    "df_clean"
   ]
  },
  {
   "cell_type": "code",
   "execution_count": 9,
   "metadata": {},
   "outputs": [
    {
     "name": "stderr",
     "output_type": "stream",
     "text": [
      "/tmp/ipykernel_23095/4016758238.py:1: SettingWithCopyWarning: \n",
      "A value is trying to be set on a copy of a slice from a DataFrame.\n",
      "Try using .loc[row_indexer,col_indexer] = value instead\n",
      "\n",
      "See the caveats in the documentation: https://pandas.pydata.org/pandas-docs/stable/user_guide/indexing.html#returning-a-view-versus-a-copy\n",
      "  df_clean['genres'] = df_clean['genres'].astype(\"string\")\n",
      "/tmp/ipykernel_23095/4016758238.py:2: SettingWithCopyWarning: \n",
      "A value is trying to be set on a copy of a slice from a DataFrame.\n",
      "Try using .loc[row_indexer,col_indexer] = value instead\n",
      "\n",
      "See the caveats in the documentation: https://pandas.pydata.org/pandas-docs/stable/user_guide/indexing.html#returning-a-view-versus-a-copy\n",
      "  df_clean['directors'] = df_clean['directors'].astype(\"string\")\n"
     ]
    }
   ],
   "source": [
    "df_clean['genres'] = df_clean['genres'].astype(\"string\")\n",
    "df_clean['directors'] = df_clean['directors'].astype(\"string\")"
   ]
  },
  {
   "cell_type": "code",
   "execution_count": 10,
   "metadata": {},
   "outputs": [
    {
     "data": {
      "text/plain": [
       "primaryTitle      object\n",
       "startYear         object\n",
       "genres            string\n",
       "directors         string\n",
       "averageRating    float64\n",
       "numVotes           int64\n",
       "dtype: object"
      ]
     },
     "execution_count": 10,
     "metadata": {},
     "output_type": "execute_result"
    }
   ],
   "source": [
    "df_clean.dtypes"
   ]
  },
  {
   "cell_type": "code",
   "execution_count": 11,
   "metadata": {},
   "outputs": [
    {
     "data": {
      "text/html": [
       "<div>\n",
       "<style scoped>\n",
       "    .dataframe tbody tr th:only-of-type {\n",
       "        vertical-align: middle;\n",
       "    }\n",
       "\n",
       "    .dataframe tbody tr th {\n",
       "        vertical-align: top;\n",
       "    }\n",
       "\n",
       "    .dataframe thead th {\n",
       "        text-align: right;\n",
       "    }\n",
       "</style>\n",
       "<table border=\"1\" class=\"dataframe\">\n",
       "  <thead>\n",
       "    <tr style=\"text-align: right;\">\n",
       "      <th></th>\n",
       "      <th>primaryTitle</th>\n",
       "      <th>startYear</th>\n",
       "      <th>genres</th>\n",
       "      <th>directors</th>\n",
       "      <th>averageRating</th>\n",
       "      <th>numVotes</th>\n",
       "    </tr>\n",
       "  </thead>\n",
       "  <tbody>\n",
       "    <tr>\n",
       "      <th>289</th>\n",
       "      <td>A Trip to the Moon</td>\n",
       "      <td>1902</td>\n",
       "      <td>Action,Adventure,Comedy</td>\n",
       "      <td>nm0617588</td>\n",
       "      <td>8.2</td>\n",
       "      <td>50411</td>\n",
       "    </tr>\n",
       "    <tr>\n",
       "      <th>2672</th>\n",
       "      <td>The Cabinet of Dr. Caligari</td>\n",
       "      <td>1920</td>\n",
       "      <td>Horror,Mystery,Thriller</td>\n",
       "      <td>nm0927468</td>\n",
       "      <td>8.0</td>\n",
       "      <td>64645</td>\n",
       "    </tr>\n",
       "    <tr>\n",
       "      <th>2970</th>\n",
       "      <td>One Week</td>\n",
       "      <td>1920</td>\n",
       "      <td>Comedy,Short</td>\n",
       "      <td>nm0166836,nm0000036</td>\n",
       "      <td>8.1</td>\n",
       "      <td>8274</td>\n",
       "    </tr>\n",
       "    <tr>\n",
       "      <th>3179</th>\n",
       "      <td>The Kid</td>\n",
       "      <td>1921</td>\n",
       "      <td>Comedy,Drama,Family</td>\n",
       "      <td>nm0000122</td>\n",
       "      <td>8.3</td>\n",
       "      <td>126941</td>\n",
       "    </tr>\n",
       "    <tr>\n",
       "      <th>3184</th>\n",
       "      <td>The Phantom Carriage</td>\n",
       "      <td>1921</td>\n",
       "      <td>Drama,Fantasy,Horror</td>\n",
       "      <td>nm0803705</td>\n",
       "      <td>8.0</td>\n",
       "      <td>12789</td>\n",
       "    </tr>\n",
       "  </tbody>\n",
       "</table>\n",
       "</div>"
      ],
      "text/plain": [
       "                     primaryTitle startYear                   genres  \\\n",
       "289            A Trip to the Moon      1902  Action,Adventure,Comedy   \n",
       "2672  The Cabinet of Dr. Caligari      1920  Horror,Mystery,Thriller   \n",
       "2970                     One Week      1920             Comedy,Short   \n",
       "3179                      The Kid      1921      Comedy,Drama,Family   \n",
       "3184         The Phantom Carriage      1921     Drama,Fantasy,Horror   \n",
       "\n",
       "                directors  averageRating  numVotes  \n",
       "289             nm0617588            8.2     50411  \n",
       "2672            nm0927468            8.0     64645  \n",
       "2970  nm0166836,nm0000036            8.1      8274  \n",
       "3179            nm0000122            8.3    126941  \n",
       "3184            nm0803705            8.0     12789  "
      ]
     },
     "execution_count": 11,
     "metadata": {},
     "output_type": "execute_result"
    }
   ],
   "source": [
    "df_clean.head()"
   ]
  },
  {
   "cell_type": "code",
   "execution_count": 12,
   "metadata": {},
   "outputs": [],
   "source": [
    "# Function to convert all strings to lower case and strip names of spaces\n",
    "def clean_data(x):\n",
    "    if isinstance(x, list):\n",
    "        return [str.lower(i.replace(\" \", \"\")) for i in x]\n",
    "    else:\n",
    "        #Check if director exists. If not, return empty string\n",
    "        if isinstance(x, str):\n",
    "            return str.lower(x.replace(\" \", \"\"))\n",
    "        else:\n",
    "            return ''\n"
   ]
  },
  {
   "cell_type": "code",
   "execution_count": 13,
   "metadata": {},
   "outputs": [
    {
     "name": "stderr",
     "output_type": "stream",
     "text": [
      "/tmp/ipykernel_23095/952854994.py:5: SettingWithCopyWarning: \n",
      "A value is trying to be set on a copy of a slice from a DataFrame.\n",
      "Try using .loc[row_indexer,col_indexer] = value instead\n",
      "\n",
      "See the caveats in the documentation: https://pandas.pydata.org/pandas-docs/stable/user_guide/indexing.html#returning-a-view-versus-a-copy\n",
      "  df_clean[feature] = df_clean[feature].apply(clean_data)\n"
     ]
    }
   ],
   "source": [
    "# Apply clean_data function to your features.\n",
    "features = ['directors', 'genres']\n",
    "\n",
    "for feature in features:\n",
    "    df_clean[feature] = df_clean[feature].apply(clean_data)\n"
   ]
  },
  {
   "cell_type": "code",
   "execution_count": 14,
   "metadata": {},
   "outputs": [],
   "source": [
    "def create_soup(x):\n",
    "    return ' '.join(x['directors']) + ' ,' + ' '.join(x['genres'])\n"
   ]
  },
  {
   "cell_type": "code",
   "execution_count": 15,
   "metadata": {},
   "outputs": [
    {
     "name": "stderr",
     "output_type": "stream",
     "text": [
      "/tmp/ipykernel_23095/1416100314.py:2: SettingWithCopyWarning: \n",
      "A value is trying to be set on a copy of a slice from a DataFrame.\n",
      "Try using .loc[row_indexer,col_indexer] = value instead\n",
      "\n",
      "See the caveats in the documentation: https://pandas.pydata.org/pandas-docs/stable/user_guide/indexing.html#returning-a-view-versus-a-copy\n",
      "  df_clean['soup'] = df_clean.apply(create_soup, axis=1)\n"
     ]
    }
   ],
   "source": [
    "# Create a new soup feature\n",
    "df_clean['soup'] = df_clean.apply(create_soup, axis=1)\n"
   ]
  },
  {
   "cell_type": "code",
   "execution_count": 16,
   "metadata": {},
   "outputs": [
    {
     "ename": "KeyError",
     "evalue": "0",
     "output_type": "error",
     "traceback": [
      "\u001b[0;31m---------------------------------------------------------------------------\u001b[0m",
      "\u001b[0;31mKeyError\u001b[0m                                  Traceback (most recent call last)",
      "File \u001b[0;32m/usr/lib/python3/dist-packages/pandas/core/indexes/base.py:3361\u001b[0m, in \u001b[0;36mIndex.get_loc\u001b[0;34m(self, key, method, tolerance)\u001b[0m\n\u001b[1;32m   3360\u001b[0m \u001b[39mtry\u001b[39;00m:\n\u001b[0;32m-> 3361\u001b[0m     \u001b[39mreturn\u001b[39;00m \u001b[39mself\u001b[39;49m\u001b[39m.\u001b[39;49m_engine\u001b[39m.\u001b[39;49mget_loc(casted_key)\n\u001b[1;32m   3362\u001b[0m \u001b[39mexcept\u001b[39;00m \u001b[39mKeyError\u001b[39;00m \u001b[39mas\u001b[39;00m err:\n",
      "File \u001b[0;32m/usr/lib/python3/dist-packages/pandas/_libs/index.pyx:76\u001b[0m, in \u001b[0;36mpandas._libs.index.IndexEngine.get_loc\u001b[0;34m()\u001b[0m\n",
      "File \u001b[0;32m/usr/lib/python3/dist-packages/pandas/_libs/index.pyx:108\u001b[0m, in \u001b[0;36mpandas._libs.index.IndexEngine.get_loc\u001b[0;34m()\u001b[0m\n",
      "File \u001b[0;32mpandas/_libs/hashtable_class_helper.pxi:2131\u001b[0m, in \u001b[0;36mpandas._libs.hashtable.Int64HashTable.get_item\u001b[0;34m()\u001b[0m\n",
      "File \u001b[0;32mpandas/_libs/hashtable_class_helper.pxi:2140\u001b[0m, in \u001b[0;36mpandas._libs.hashtable.Int64HashTable.get_item\u001b[0;34m()\u001b[0m\n",
      "\u001b[0;31mKeyError\u001b[0m: 0",
      "\nThe above exception was the direct cause of the following exception:\n",
      "\u001b[0;31mKeyError\u001b[0m                                  Traceback (most recent call last)",
      "Cell \u001b[0;32mIn [16], line 2\u001b[0m\n\u001b[1;32m      1\u001b[0m df_clean[\u001b[39m'\u001b[39m\u001b[39msoup\u001b[39m\u001b[39m'\u001b[39m]\u001b[39m.\u001b[39mhead()\n\u001b[0;32m----> 2\u001b[0m \u001b[39mprint\u001b[39m(df_clean[\u001b[39m'\u001b[39;49m\u001b[39msoup\u001b[39;49m\u001b[39m'\u001b[39;49m][\u001b[39m0\u001b[39;49m])\n",
      "File \u001b[0;32m/usr/lib/python3/dist-packages/pandas/core/series.py:942\u001b[0m, in \u001b[0;36mSeries.__getitem__\u001b[0;34m(self, key)\u001b[0m\n\u001b[1;32m    939\u001b[0m     \u001b[39mreturn\u001b[39;00m \u001b[39mself\u001b[39m\u001b[39m.\u001b[39m_values[key]\n\u001b[1;32m    941\u001b[0m \u001b[39melif\u001b[39;00m key_is_scalar:\n\u001b[0;32m--> 942\u001b[0m     \u001b[39mreturn\u001b[39;00m \u001b[39mself\u001b[39;49m\u001b[39m.\u001b[39;49m_get_value(key)\n\u001b[1;32m    944\u001b[0m \u001b[39mif\u001b[39;00m is_hashable(key):\n\u001b[1;32m    945\u001b[0m     \u001b[39m# Otherwise index.get_value will raise InvalidIndexError\u001b[39;00m\n\u001b[1;32m    946\u001b[0m     \u001b[39mtry\u001b[39;00m:\n\u001b[1;32m    947\u001b[0m         \u001b[39m# For labels that don't resolve as scalars like tuples and frozensets\u001b[39;00m\n",
      "File \u001b[0;32m/usr/lib/python3/dist-packages/pandas/core/series.py:1051\u001b[0m, in \u001b[0;36mSeries._get_value\u001b[0;34m(self, label, takeable)\u001b[0m\n\u001b[1;32m   1048\u001b[0m     \u001b[39mreturn\u001b[39;00m \u001b[39mself\u001b[39m\u001b[39m.\u001b[39m_values[label]\n\u001b[1;32m   1050\u001b[0m \u001b[39m# Similar to Index.get_value, but we do not fall back to positional\u001b[39;00m\n\u001b[0;32m-> 1051\u001b[0m loc \u001b[39m=\u001b[39m \u001b[39mself\u001b[39;49m\u001b[39m.\u001b[39;49mindex\u001b[39m.\u001b[39;49mget_loc(label)\n\u001b[1;32m   1052\u001b[0m \u001b[39mreturn\u001b[39;00m \u001b[39mself\u001b[39m\u001b[39m.\u001b[39mindex\u001b[39m.\u001b[39m_get_values_for_loc(\u001b[39mself\u001b[39m, loc, label)\n",
      "File \u001b[0;32m/usr/lib/python3/dist-packages/pandas/core/indexes/base.py:3363\u001b[0m, in \u001b[0;36mIndex.get_loc\u001b[0;34m(self, key, method, tolerance)\u001b[0m\n\u001b[1;32m   3361\u001b[0m         \u001b[39mreturn\u001b[39;00m \u001b[39mself\u001b[39m\u001b[39m.\u001b[39m_engine\u001b[39m.\u001b[39mget_loc(casted_key)\n\u001b[1;32m   3362\u001b[0m     \u001b[39mexcept\u001b[39;00m \u001b[39mKeyError\u001b[39;00m \u001b[39mas\u001b[39;00m err:\n\u001b[0;32m-> 3363\u001b[0m         \u001b[39mraise\u001b[39;00m \u001b[39mKeyError\u001b[39;00m(key) \u001b[39mfrom\u001b[39;00m \u001b[39merr\u001b[39;00m\n\u001b[1;32m   3365\u001b[0m \u001b[39mif\u001b[39;00m is_scalar(key) \u001b[39mand\u001b[39;00m isna(key) \u001b[39mand\u001b[39;00m \u001b[39mnot\u001b[39;00m \u001b[39mself\u001b[39m\u001b[39m.\u001b[39mhasnans:\n\u001b[1;32m   3366\u001b[0m     \u001b[39mraise\u001b[39;00m \u001b[39mKeyError\u001b[39;00m(key)\n",
      "\u001b[0;31mKeyError\u001b[0m: 0"
     ]
    }
   ],
   "source": [
    "df_clean['soup'].head()\n",
    "print(df_clean['soup'][0])"
   ]
  },
  {
   "cell_type": "code",
   "execution_count": 17,
   "metadata": {},
   "outputs": [
    {
     "name": "stderr",
     "output_type": "stream",
     "text": [
      "/tmp/ipykernel_23095/55744466.py:4: SettingWithCopyWarning: \n",
      "A value is trying to be set on a copy of a slice from a DataFrame.\n",
      "Try using .loc[row_indexer,col_indexer] = value instead\n",
      "\n",
      "See the caveats in the documentation: https://pandas.pydata.org/pandas-docs/stable/user_guide/indexing.html#returning-a-view-versus-a-copy\n",
      "  df_clean[feature] = df_clean[feature].apply(clean_data)\n"
     ]
    }
   ],
   "source": [
    "features = ['soup']\n",
    "\n",
    "for feature in features:\n",
    "    df_clean[feature] = df_clean[feature].apply(clean_data)"
   ]
  },
  {
   "cell_type": "code",
   "execution_count": 18,
   "metadata": {},
   "outputs": [
    {
     "ename": "KeyError",
     "evalue": "0",
     "output_type": "error",
     "traceback": [
      "\u001b[0;31m---------------------------------------------------------------------------\u001b[0m",
      "\u001b[0;31mKeyError\u001b[0m                                  Traceback (most recent call last)",
      "File \u001b[0;32m/usr/lib/python3/dist-packages/pandas/core/indexes/base.py:3361\u001b[0m, in \u001b[0;36mIndex.get_loc\u001b[0;34m(self, key, method, tolerance)\u001b[0m\n\u001b[1;32m   3360\u001b[0m \u001b[39mtry\u001b[39;00m:\n\u001b[0;32m-> 3361\u001b[0m     \u001b[39mreturn\u001b[39;00m \u001b[39mself\u001b[39;49m\u001b[39m.\u001b[39;49m_engine\u001b[39m.\u001b[39;49mget_loc(casted_key)\n\u001b[1;32m   3362\u001b[0m \u001b[39mexcept\u001b[39;00m \u001b[39mKeyError\u001b[39;00m \u001b[39mas\u001b[39;00m err:\n",
      "File \u001b[0;32m/usr/lib/python3/dist-packages/pandas/_libs/index.pyx:76\u001b[0m, in \u001b[0;36mpandas._libs.index.IndexEngine.get_loc\u001b[0;34m()\u001b[0m\n",
      "File \u001b[0;32m/usr/lib/python3/dist-packages/pandas/_libs/index.pyx:108\u001b[0m, in \u001b[0;36mpandas._libs.index.IndexEngine.get_loc\u001b[0;34m()\u001b[0m\n",
      "File \u001b[0;32mpandas/_libs/hashtable_class_helper.pxi:2131\u001b[0m, in \u001b[0;36mpandas._libs.hashtable.Int64HashTable.get_item\u001b[0;34m()\u001b[0m\n",
      "File \u001b[0;32mpandas/_libs/hashtable_class_helper.pxi:2140\u001b[0m, in \u001b[0;36mpandas._libs.hashtable.Int64HashTable.get_item\u001b[0;34m()\u001b[0m\n",
      "\u001b[0;31mKeyError\u001b[0m: 0",
      "\nThe above exception was the direct cause of the following exception:\n",
      "\u001b[0;31mKeyError\u001b[0m                                  Traceback (most recent call last)",
      "Cell \u001b[0;32mIn [18], line 1\u001b[0m\n\u001b[0;32m----> 1\u001b[0m \u001b[39mprint\u001b[39m(df_clean[\u001b[39m'\u001b[39;49m\u001b[39msoup\u001b[39;49m\u001b[39m'\u001b[39;49m][\u001b[39m0\u001b[39;49m])\n",
      "File \u001b[0;32m/usr/lib/python3/dist-packages/pandas/core/series.py:942\u001b[0m, in \u001b[0;36mSeries.__getitem__\u001b[0;34m(self, key)\u001b[0m\n\u001b[1;32m    939\u001b[0m     \u001b[39mreturn\u001b[39;00m \u001b[39mself\u001b[39m\u001b[39m.\u001b[39m_values[key]\n\u001b[1;32m    941\u001b[0m \u001b[39melif\u001b[39;00m key_is_scalar:\n\u001b[0;32m--> 942\u001b[0m     \u001b[39mreturn\u001b[39;00m \u001b[39mself\u001b[39;49m\u001b[39m.\u001b[39;49m_get_value(key)\n\u001b[1;32m    944\u001b[0m \u001b[39mif\u001b[39;00m is_hashable(key):\n\u001b[1;32m    945\u001b[0m     \u001b[39m# Otherwise index.get_value will raise InvalidIndexError\u001b[39;00m\n\u001b[1;32m    946\u001b[0m     \u001b[39mtry\u001b[39;00m:\n\u001b[1;32m    947\u001b[0m         \u001b[39m# For labels that don't resolve as scalars like tuples and frozensets\u001b[39;00m\n",
      "File \u001b[0;32m/usr/lib/python3/dist-packages/pandas/core/series.py:1051\u001b[0m, in \u001b[0;36mSeries._get_value\u001b[0;34m(self, label, takeable)\u001b[0m\n\u001b[1;32m   1048\u001b[0m     \u001b[39mreturn\u001b[39;00m \u001b[39mself\u001b[39m\u001b[39m.\u001b[39m_values[label]\n\u001b[1;32m   1050\u001b[0m \u001b[39m# Similar to Index.get_value, but we do not fall back to positional\u001b[39;00m\n\u001b[0;32m-> 1051\u001b[0m loc \u001b[39m=\u001b[39m \u001b[39mself\u001b[39;49m\u001b[39m.\u001b[39;49mindex\u001b[39m.\u001b[39;49mget_loc(label)\n\u001b[1;32m   1052\u001b[0m \u001b[39mreturn\u001b[39;00m \u001b[39mself\u001b[39m\u001b[39m.\u001b[39mindex\u001b[39m.\u001b[39m_get_values_for_loc(\u001b[39mself\u001b[39m, loc, label)\n",
      "File \u001b[0;32m/usr/lib/python3/dist-packages/pandas/core/indexes/base.py:3363\u001b[0m, in \u001b[0;36mIndex.get_loc\u001b[0;34m(self, key, method, tolerance)\u001b[0m\n\u001b[1;32m   3361\u001b[0m         \u001b[39mreturn\u001b[39;00m \u001b[39mself\u001b[39m\u001b[39m.\u001b[39m_engine\u001b[39m.\u001b[39mget_loc(casted_key)\n\u001b[1;32m   3362\u001b[0m     \u001b[39mexcept\u001b[39;00m \u001b[39mKeyError\u001b[39;00m \u001b[39mas\u001b[39;00m err:\n\u001b[0;32m-> 3363\u001b[0m         \u001b[39mraise\u001b[39;00m \u001b[39mKeyError\u001b[39;00m(key) \u001b[39mfrom\u001b[39;00m \u001b[39merr\u001b[39;00m\n\u001b[1;32m   3365\u001b[0m \u001b[39mif\u001b[39;00m is_scalar(key) \u001b[39mand\u001b[39;00m isna(key) \u001b[39mand\u001b[39;00m \u001b[39mnot\u001b[39;00m \u001b[39mself\u001b[39m\u001b[39m.\u001b[39mhasnans:\n\u001b[1;32m   3366\u001b[0m     \u001b[39mraise\u001b[39;00m \u001b[39mKeyError\u001b[39;00m(key)\n",
      "\u001b[0;31mKeyError\u001b[0m: 0"
     ]
    }
   ],
   "source": [
    "print(df_clean['soup'][0])"
   ]
  },
  {
   "cell_type": "code",
   "execution_count": 19,
   "metadata": {},
   "outputs": [
    {
     "name": "stderr",
     "output_type": "stream",
     "text": [
      "/tmp/ipykernel_23095/2337589423.py:2: SettingWithCopyWarning: \n",
      "A value is trying to be set on a copy of a slice from a DataFrame.\n",
      "Try using .loc[row_indexer,col_indexer] = value instead\n",
      "\n",
      "See the caveats in the documentation: https://pandas.pydata.org/pandas-docs/stable/user_guide/indexing.html#returning-a-view-versus-a-copy\n",
      "  df_clean['soup'] = df_clean['soup'].replace(',', ' ', regex=True)\n"
     ]
    }
   ],
   "source": [
    "# Function to convert all strings to lower case and strip names of spaces\n",
    "df_clean['soup'] = df_clean['soup'].replace(',', ' ', regex=True)"
   ]
  },
  {
   "cell_type": "code",
   "execution_count": 20,
   "metadata": {},
   "outputs": [
    {
     "data": {
      "text/html": [
       "<div>\n",
       "<style scoped>\n",
       "    .dataframe tbody tr th:only-of-type {\n",
       "        vertical-align: middle;\n",
       "    }\n",
       "\n",
       "    .dataframe tbody tr th {\n",
       "        vertical-align: top;\n",
       "    }\n",
       "\n",
       "    .dataframe thead th {\n",
       "        text-align: right;\n",
       "    }\n",
       "</style>\n",
       "<table border=\"1\" class=\"dataframe\">\n",
       "  <thead>\n",
       "    <tr style=\"text-align: right;\">\n",
       "      <th></th>\n",
       "      <th>primaryTitle</th>\n",
       "      <th>startYear</th>\n",
       "      <th>genres</th>\n",
       "      <th>directors</th>\n",
       "      <th>averageRating</th>\n",
       "      <th>numVotes</th>\n",
       "      <th>soup</th>\n",
       "    </tr>\n",
       "  </thead>\n",
       "  <tbody>\n",
       "    <tr>\n",
       "      <th>289</th>\n",
       "      <td>A Trip to the Moon</td>\n",
       "      <td>1902</td>\n",
       "      <td>action,adventure,comedy</td>\n",
       "      <td>nm0617588</td>\n",
       "      <td>8.2</td>\n",
       "      <td>50411</td>\n",
       "      <td>nm0617588 action adventure comedy</td>\n",
       "    </tr>\n",
       "    <tr>\n",
       "      <th>2672</th>\n",
       "      <td>The Cabinet of Dr. Caligari</td>\n",
       "      <td>1920</td>\n",
       "      <td>horror,mystery,thriller</td>\n",
       "      <td>nm0927468</td>\n",
       "      <td>8.0</td>\n",
       "      <td>64645</td>\n",
       "      <td>nm0927468 horror mystery thriller</td>\n",
       "    </tr>\n",
       "    <tr>\n",
       "      <th>2970</th>\n",
       "      <td>One Week</td>\n",
       "      <td>1920</td>\n",
       "      <td>comedy,short</td>\n",
       "      <td>nm0166836,nm0000036</td>\n",
       "      <td>8.1</td>\n",
       "      <td>8274</td>\n",
       "      <td>nm0166836 nm0000036 comedy short</td>\n",
       "    </tr>\n",
       "    <tr>\n",
       "      <th>3179</th>\n",
       "      <td>The Kid</td>\n",
       "      <td>1921</td>\n",
       "      <td>comedy,drama,family</td>\n",
       "      <td>nm0000122</td>\n",
       "      <td>8.3</td>\n",
       "      <td>126941</td>\n",
       "      <td>nm0000122 comedy drama family</td>\n",
       "    </tr>\n",
       "    <tr>\n",
       "      <th>3184</th>\n",
       "      <td>The Phantom Carriage</td>\n",
       "      <td>1921</td>\n",
       "      <td>drama,fantasy,horror</td>\n",
       "      <td>nm0803705</td>\n",
       "      <td>8.0</td>\n",
       "      <td>12789</td>\n",
       "      <td>nm0803705 drama fantasy horror</td>\n",
       "    </tr>\n",
       "  </tbody>\n",
       "</table>\n",
       "</div>"
      ],
      "text/plain": [
       "                     primaryTitle startYear                   genres  \\\n",
       "289            A Trip to the Moon      1902  action,adventure,comedy   \n",
       "2672  The Cabinet of Dr. Caligari      1920  horror,mystery,thriller   \n",
       "2970                     One Week      1920             comedy,short   \n",
       "3179                      The Kid      1921      comedy,drama,family   \n",
       "3184         The Phantom Carriage      1921     drama,fantasy,horror   \n",
       "\n",
       "                directors  averageRating  numVotes  \\\n",
       "289             nm0617588            8.2     50411   \n",
       "2672            nm0927468            8.0     64645   \n",
       "2970  nm0166836,nm0000036            8.1      8274   \n",
       "3179            nm0000122            8.3    126941   \n",
       "3184            nm0803705            8.0     12789   \n",
       "\n",
       "                                   soup  \n",
       "289   nm0617588 action adventure comedy  \n",
       "2672  nm0927468 horror mystery thriller  \n",
       "2970   nm0166836 nm0000036 comedy short  \n",
       "3179      nm0000122 comedy drama family  \n",
       "3184     nm0803705 drama fantasy horror  "
      ]
     },
     "execution_count": 20,
     "metadata": {},
     "output_type": "execute_result"
    }
   ],
   "source": [
    "df_clean.head()"
   ]
  },
  {
   "cell_type": "code",
   "execution_count": 32,
   "metadata": {},
   "outputs": [
    {
     "name": "stderr",
     "output_type": "stream",
     "text": [
      "/tmp/ipykernel_23095/336151206.py:1: SettingWithCopyWarning: \n",
      "A value is trying to be set on a copy of a slice from a DataFrame.\n",
      "Try using .loc[row_indexer,col_indexer] = value instead\n",
      "\n",
      "See the caveats in the documentation: https://pandas.pydata.org/pandas-docs/stable/user_guide/indexing.html#returning-a-view-versus-a-copy\n",
      "  df_clean['primaryTitle'] = df_clean['primaryTitle'].astype(\"string\")\n"
     ]
    }
   ],
   "source": [
    "df_clean['primaryTitle'] = df_clean['primaryTitle'].astype(\"string\")"
   ]
  },
  {
   "cell_type": "code",
   "execution_count": 44,
   "metadata": {},
   "outputs": [],
   "source": [
    "df_clean = df_clean.reset_index()"
   ]
  },
  {
   "cell_type": "code",
   "execution_count": 47,
   "metadata": {},
   "outputs": [
    {
     "data": {
      "text/plain": [
       "index              int64\n",
       "primaryTitle      string\n",
       "startYear         object\n",
       "genres            object\n",
       "directors         object\n",
       "averageRating    float64\n",
       "numVotes           int64\n",
       "soup              object\n",
       "dtype: object"
      ]
     },
     "execution_count": 47,
     "metadata": {},
     "output_type": "execute_result"
    }
   ],
   "source": [
    "df_clean.dtypes"
   ]
  },
  {
   "cell_type": "code",
   "execution_count": 21,
   "metadata": {},
   "outputs": [],
   "source": [
    "# Import CountVectorizer and create the count matrix\n",
    "count = CountVectorizer(stop_words='english')\n",
    "count_matrix = count.fit_transform(df_clean['soup'])"
   ]
  },
  {
   "cell_type": "code",
   "execution_count": 22,
   "metadata": {},
   "outputs": [
    {
     "data": {
      "text/plain": [
       "(14891, 10044)"
      ]
     },
     "execution_count": 22,
     "metadata": {},
     "output_type": "execute_result"
    }
   ],
   "source": [
    "count_matrix.shape"
   ]
  },
  {
   "cell_type": "code",
   "execution_count": null,
   "metadata": {},
   "outputs": [],
   "source": [
    "# "
   ]
  },
  {
   "cell_type": "code",
   "execution_count": 54,
   "metadata": {},
   "outputs": [],
   "source": [
    "# Compute the Cosine Similarity matrix based on the count_matrix\n",
    "cosine_sim2 = cosine_similarity(count_matrix[0], count_matrix)\n"
   ]
  },
  {
   "cell_type": "code",
   "execution_count": 56,
   "metadata": {},
   "outputs": [
    {
     "data": {
      "text/plain": [
       "(1, 14891)"
      ]
     },
     "execution_count": 56,
     "metadata": {},
     "output_type": "execute_result"
    }
   ],
   "source": [
    "cosine_sim2.shape"
   ]
  },
  {
   "cell_type": "code",
   "execution_count": 59,
   "metadata": {},
   "outputs": [],
   "source": [
    "# Function that takes in movie title as input and outputs most similar movies\n",
    "def get_recommendations(title, cosine_sim=cosine_sim2):\n",
    "    # Get the index of the movie that matches the title\n",
    "    idx = df_clean.index[df_clean['primaryTitle'] == title]\n",
    "    print(f\"1. idx : {idx}\")\n",
    "\n",
    "    # Get the pairwsie similarity scores of all movies with that movie\n",
    "    sim_scores = list(enumerate(cosine_similarity(count_matrix[idx], count_matrix)))\n",
    "    print(f\"2. sim_scores : {sim_scores}\")\n",
    "\n",
    "    # Sort the movies based on the similarity scores\n",
    "    sim_scores = sorted(sim_scores, key=lambda x: x[1], reverse=True)\n",
    "    print(f\"3. sorted sim_scores : {sim_scores}\")\n",
    "\n",
    "    # Get the scores of the 10 most similar movies\n",
    "    sim_scores = sim_scores.iloc[1:11]\n",
    "    print(f\"4. top 10 sim_scores : {sim_scores}\")\n",
    "\n",
    "    # Get the movie indices\n",
    "    movie_indices = [i[0] for i in sim_scores]\n",
    "    print(f\"5. movie_indices : {movie_indices}\")\n",
    "\n",
    "    # Return the top 10 most similar movies\n",
    "    return df_clean['primaryTitle'].iloc[movie_indices]\n"
   ]
  },
  {
   "cell_type": "code",
   "execution_count": 60,
   "metadata": {},
   "outputs": [
    {
     "name": "stdout",
     "output_type": "stream",
     "text": [
      "1. idx : Int64Index([3], dtype='int64')\n",
      "2. sim_scores : [(0, array([0.25     , 0.       , 0.25     , ..., 0.2236068, 0.       ,\n",
      "       0.       ]))]\n",
      "3. sorted sim_scores : [(0, array([0.25     , 0.       , 0.25     , ..., 0.2236068, 0.       ,\n",
      "       0.       ]))]\n"
     ]
    },
    {
     "ename": "AttributeError",
     "evalue": "'list' object has no attribute 'iloc'",
     "output_type": "error",
     "traceback": [
      "\u001b[0;31m---------------------------------------------------------------------------\u001b[0m",
      "\u001b[0;31mAttributeError\u001b[0m                            Traceback (most recent call last)",
      "Cell \u001b[0;32mIn [60], line 1\u001b[0m\n\u001b[0;32m----> 1\u001b[0m var \u001b[39m=\u001b[39m get_recommendations(\u001b[39m'\u001b[39;49m\u001b[39mThe Kid\u001b[39;49m\u001b[39m'\u001b[39;49m)\n\u001b[1;32m      2\u001b[0m \u001b[39mprint\u001b[39m(var)\n",
      "Cell \u001b[0;32mIn [59], line 16\u001b[0m, in \u001b[0;36mget_recommendations\u001b[0;34m(title, cosine_sim)\u001b[0m\n\u001b[1;32m     13\u001b[0m \u001b[39mprint\u001b[39m(\u001b[39mf\u001b[39m\u001b[39m\"\u001b[39m\u001b[39m3. sorted sim_scores : \u001b[39m\u001b[39m{\u001b[39;00msim_scores\u001b[39m}\u001b[39;00m\u001b[39m\"\u001b[39m)\n\u001b[1;32m     15\u001b[0m \u001b[39m# Get the scores of the 10 most similar movies\u001b[39;00m\n\u001b[0;32m---> 16\u001b[0m sim_scores \u001b[39m=\u001b[39m sim_scores\u001b[39m.\u001b[39;49miloc[\u001b[39m1\u001b[39m:\u001b[39m11\u001b[39m]\n\u001b[1;32m     17\u001b[0m \u001b[39mprint\u001b[39m(\u001b[39mf\u001b[39m\u001b[39m\"\u001b[39m\u001b[39m4. top 10 sim_scores : \u001b[39m\u001b[39m{\u001b[39;00msim_scores\u001b[39m}\u001b[39;00m\u001b[39m\"\u001b[39m)\n\u001b[1;32m     19\u001b[0m \u001b[39m# Get the movie indices\u001b[39;00m\n",
      "\u001b[0;31mAttributeError\u001b[0m: 'list' object has no attribute 'iloc'"
     ]
    }
   ],
   "source": [
    "var = get_recommendations('The Kid')\n",
    "print(var)"
   ]
  }
 ],
 "metadata": {
  "kernelspec": {
   "display_name": "Python 3.10.6 ('venv': venv)",
   "language": "python",
   "name": "python3"
  },
  "language_info": {
   "codemirror_mode": {
    "name": "ipython",
    "version": 3
   },
   "file_extension": ".py",
   "mimetype": "text/x-python",
   "name": "python",
   "nbconvert_exporter": "python",
   "pygments_lexer": "ipython3",
   "version": "3.10.6"
  },
  "orig_nbformat": 4,
  "vscode": {
   "interpreter": {
    "hash": "b11276c3a543d9859b6dbc11da7634481824fc7a9002fc62915bc2ca215f4cc0"
   }
  }
 },
 "nbformat": 4,
 "nbformat_minor": 2
}
